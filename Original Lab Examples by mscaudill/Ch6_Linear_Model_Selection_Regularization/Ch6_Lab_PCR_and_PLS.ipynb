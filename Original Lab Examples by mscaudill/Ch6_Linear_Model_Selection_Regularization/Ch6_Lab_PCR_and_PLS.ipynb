{
 "cells": [
  {
   "cell_type": "markdown",
   "metadata": {},
   "source": [
    "# ISLR- Python Ch6 -- Lab 3: PCR and PLS Regression"
   ]
  },
  {
   "cell_type": "markdown",
   "metadata": {},
   "source": [
    "- [Load Hitters Dataset](#Load-Hitters-Dataset)\n",
    "- [6.7.1 Principal Component Regression](#6.7.1-Principal-Component-Regression)\n",
    "- [6.7.2 Partial Least Squares](#6.7.2-Partial-Least-Squares)"
   ]
  },
  {
   "cell_type": "code",
   "execution_count": 10,
   "metadata": {
    "collapsed": false
   },
   "outputs": [],
   "source": [
    "# perform standard imports\n",
    "import numpy as np\n",
    "import pandas as pd\n",
    "\n",
    "from sklearn.linear_model import LinearRegression\n",
    "from sklearn.decomposition import PCA\n",
    "from sklearn.cross_decomposition import PLSRegression\n",
    "from sklearn.preprocessing import StandardScaler, scale\n",
    "from sklearn.cross_validation import cross_val_score\n",
    "from sklearn.pipeline import Pipeline\n",
    "\n",
    "from matplotlib import pyplot as plt\n",
    "from operator import itemgetter\n",
    "\n",
    "%matplotlib inline\n",
    "plt.style.use('ggplot') # emulate R's pretty plotting\n",
    "\n",
    "# print numpy arrays with precision 4\n",
    "np.set_printoptions(precision=4)"
   ]
  },
  {
   "cell_type": "markdown",
   "metadata": {},
   "source": [
    "## Load Hitters Dataset"
   ]
  },
  {
   "cell_type": "code",
   "execution_count": 11,
   "metadata": {
    "collapsed": false
   },
   "outputs": [
    {
     "data": {
      "text/html": [
       "<div>\n",
       "<table border=\"1\" class=\"dataframe\">\n",
       "  <thead>\n",
       "    <tr style=\"text-align: right;\">\n",
       "      <th></th>\n",
       "      <th>AtBat</th>\n",
       "      <th>Hits</th>\n",
       "      <th>HmRun</th>\n",
       "      <th>Runs</th>\n",
       "      <th>RBI</th>\n",
       "      <th>Walks</th>\n",
       "      <th>Years</th>\n",
       "      <th>CAtBat</th>\n",
       "      <th>CHits</th>\n",
       "      <th>CHmRun</th>\n",
       "      <th>CRuns</th>\n",
       "      <th>CRBI</th>\n",
       "      <th>CWalks</th>\n",
       "      <th>PutOuts</th>\n",
       "      <th>Assists</th>\n",
       "      <th>Errors</th>\n",
       "      <th>Salary</th>\n",
       "      <th>League_N</th>\n",
       "      <th>Division_W</th>\n",
       "      <th>NewLeague_N</th>\n",
       "    </tr>\n",
       "  </thead>\n",
       "  <tbody>\n",
       "    <tr>\n",
       "      <th>-Alan Ashby</th>\n",
       "      <td>315</td>\n",
       "      <td>81</td>\n",
       "      <td>7</td>\n",
       "      <td>24</td>\n",
       "      <td>38</td>\n",
       "      <td>39</td>\n",
       "      <td>14</td>\n",
       "      <td>3449</td>\n",
       "      <td>835</td>\n",
       "      <td>69</td>\n",
       "      <td>321</td>\n",
       "      <td>414</td>\n",
       "      <td>375</td>\n",
       "      <td>632</td>\n",
       "      <td>43</td>\n",
       "      <td>10</td>\n",
       "      <td>475.0</td>\n",
       "      <td>1</td>\n",
       "      <td>1</td>\n",
       "      <td>1</td>\n",
       "    </tr>\n",
       "    <tr>\n",
       "      <th>-Alvin Davis</th>\n",
       "      <td>479</td>\n",
       "      <td>130</td>\n",
       "      <td>18</td>\n",
       "      <td>66</td>\n",
       "      <td>72</td>\n",
       "      <td>76</td>\n",
       "      <td>3</td>\n",
       "      <td>1624</td>\n",
       "      <td>457</td>\n",
       "      <td>63</td>\n",
       "      <td>224</td>\n",
       "      <td>266</td>\n",
       "      <td>263</td>\n",
       "      <td>880</td>\n",
       "      <td>82</td>\n",
       "      <td>14</td>\n",
       "      <td>480.0</td>\n",
       "      <td>0</td>\n",
       "      <td>1</td>\n",
       "      <td>0</td>\n",
       "    </tr>\n",
       "    <tr>\n",
       "      <th>-Andre Dawson</th>\n",
       "      <td>496</td>\n",
       "      <td>141</td>\n",
       "      <td>20</td>\n",
       "      <td>65</td>\n",
       "      <td>78</td>\n",
       "      <td>37</td>\n",
       "      <td>11</td>\n",
       "      <td>5628</td>\n",
       "      <td>1575</td>\n",
       "      <td>225</td>\n",
       "      <td>828</td>\n",
       "      <td>838</td>\n",
       "      <td>354</td>\n",
       "      <td>200</td>\n",
       "      <td>11</td>\n",
       "      <td>3</td>\n",
       "      <td>500.0</td>\n",
       "      <td>1</td>\n",
       "      <td>0</td>\n",
       "      <td>1</td>\n",
       "    </tr>\n",
       "    <tr>\n",
       "      <th>-Andres Galarraga</th>\n",
       "      <td>321</td>\n",
       "      <td>87</td>\n",
       "      <td>10</td>\n",
       "      <td>39</td>\n",
       "      <td>42</td>\n",
       "      <td>30</td>\n",
       "      <td>2</td>\n",
       "      <td>396</td>\n",
       "      <td>101</td>\n",
       "      <td>12</td>\n",
       "      <td>48</td>\n",
       "      <td>46</td>\n",
       "      <td>33</td>\n",
       "      <td>805</td>\n",
       "      <td>40</td>\n",
       "      <td>4</td>\n",
       "      <td>91.5</td>\n",
       "      <td>1</td>\n",
       "      <td>0</td>\n",
       "      <td>1</td>\n",
       "    </tr>\n",
       "    <tr>\n",
       "      <th>-Alfredo Griffin</th>\n",
       "      <td>594</td>\n",
       "      <td>169</td>\n",
       "      <td>4</td>\n",
       "      <td>74</td>\n",
       "      <td>51</td>\n",
       "      <td>35</td>\n",
       "      <td>11</td>\n",
       "      <td>4408</td>\n",
       "      <td>1133</td>\n",
       "      <td>19</td>\n",
       "      <td>501</td>\n",
       "      <td>336</td>\n",
       "      <td>194</td>\n",
       "      <td>282</td>\n",
       "      <td>421</td>\n",
       "      <td>25</td>\n",
       "      <td>750.0</td>\n",
       "      <td>0</td>\n",
       "      <td>1</td>\n",
       "      <td>0</td>\n",
       "    </tr>\n",
       "  </tbody>\n",
       "</table>\n",
       "</div>"
      ],
      "text/plain": [
       "                   AtBat  Hits  HmRun  Runs  RBI  Walks  Years  CAtBat  CHits  \\\n",
       "-Alan Ashby          315    81      7    24   38     39     14    3449    835   \n",
       "-Alvin Davis         479   130     18    66   72     76      3    1624    457   \n",
       "-Andre Dawson        496   141     20    65   78     37     11    5628   1575   \n",
       "-Andres Galarraga    321    87     10    39   42     30      2     396    101   \n",
       "-Alfredo Griffin     594   169      4    74   51     35     11    4408   1133   \n",
       "\n",
       "                   CHmRun  CRuns  CRBI  CWalks  PutOuts  Assists  Errors  \\\n",
       "-Alan Ashby            69    321   414     375      632       43      10   \n",
       "-Alvin Davis           63    224   266     263      880       82      14   \n",
       "-Andre Dawson         225    828   838     354      200       11       3   \n",
       "-Andres Galarraga      12     48    46      33      805       40       4   \n",
       "-Alfredo Griffin       19    501   336     194      282      421      25   \n",
       "\n",
       "                   Salary  League_N  Division_W  NewLeague_N  \n",
       "-Alan Ashby         475.0         1           1            1  \n",
       "-Alvin Davis        480.0         0           1            0  \n",
       "-Andre Dawson       500.0         1           0            1  \n",
       "-Andres Galarraga    91.5         1           0            1  \n",
       "-Alfredo Griffin    750.0         0           1            0  "
      ]
     },
     "execution_count": 11,
     "metadata": {},
     "output_type": "execute_result"
    }
   ],
   "source": [
    "# In Lab 1 we explored the hitters dataframe locating rows with missing data and identifying\n",
    "# categorical variables. See that lab for details...\n",
    "hitters = pd.read_csv('../../data/Hitters.csv', index_col=0).dropna()\n",
    "\n",
    "# Create a set of dummy variables for the categoricals\n",
    "dummies = pd.get_dummies(hitters[['League', 'Division', 'NewLeague']])\n",
    "\n",
    "# Generate new dataframe with new dummy variables\n",
    "hitters = hitters.drop(['League', 'Division', 'NewLeague'], axis=1)\n",
    "\n",
    "# add new dummy variables to hitters\n",
    "hitters = pd.concat([hitters, dummies[['League_N', 'Division_W', 'NewLeague_N']]],axis=1)\n",
    "\n",
    "hitters.head()"
   ]
  },
  {
   "cell_type": "code",
   "execution_count": 12,
   "metadata": {
    "collapsed": false
   },
   "outputs": [],
   "source": [
    "# Get the predictors and response from hitters\n",
    "X = hitters.drop('Salary', axis = 1).values\n",
    "y = hitters.Salary.values"
   ]
  },
  {
   "cell_type": "markdown",
   "metadata": {},
   "source": [
    "## 6.7.1 Principal Component Regression"
   ]
  },
  {
   "cell_type": "code",
   "execution_count": 13,
   "metadata": {
    "collapsed": false
   },
   "outputs": [
    {
     "name": "stdout",
     "output_type": "stream",
     "text": [
      "The prinipal comoponent matrix has shape (num_samples, num_pcs)= (263, 19) \n",
      "\n",
      "The first two PCs have the following first 5 scores: \n",
      " \n",
      " [[-0.0096 -1.8705]\n",
      " [ 0.4114  2.4294]\n",
      " [ 3.4668 -0.8259]\n",
      " [-2.5583  0.231 ]\n",
      " [ 1.0277  1.5735]] \n",
      "\n",
      "The loadings matrix has shape (num_pcs, num_features) = (19, 19) \n",
      "\n",
      "The 19 loadings for the first two principal components are:\n",
      " \n",
      " [[ 0.1983  0.1959]\n",
      " [ 0.3838  0.3773]\n",
      " [-0.0886 -0.074 ]\n",
      " [ 0.032   0.018 ]\n",
      " [-0.0281  0.0047]\n",
      " [ 0.0706  0.0822]\n",
      " [-0.107  -0.13  ]\n",
      " [ 0.2698  0.3887]\n",
      " [-0.0122 -0.0616]\n",
      " [ 0.1456  0.1305]\n",
      " [ 0.0973  0.0144]\n",
      " [-0.1031 -0.121 ]\n",
      " [ 0.0399 -0.0036]\n",
      " [ 0.3062  0.2106]\n",
      " [-0.5324  0.0234]\n",
      " [ 0.5103 -0.7202]\n",
      " [-0.1393  0.1674]\n",
      " [ 0.1068 -0.0436]\n",
      " [ 0.0538 -0.0978]]\n"
     ]
    }
   ],
   "source": [
    "# Lets make sure we understand the terms and how to get them from the sklearn PCA object\n",
    "# make pca obj\n",
    "pca = PCA()\n",
    "# call fit_transform on SCALED X to get the Principal Components\n",
    "X_pcs = pca.fit_transform(scale(X))\n",
    "print('The prinipal comoponent matrix has shape (num_samples, num_pcs)=', X_pcs.shape, '\\n')\n",
    "# Print the first two (out of 19 possible) principal components\n",
    "print('The first two PCs have the following first 5 scores: \\n \\n', X_pcs[0:5,0:2], '\\n')\n",
    "\n",
    "# The loadings are the 19 coeffecients that project each point onto the Principal Component (eigenvector)\n",
    "loadings = pca.components_\n",
    "print('The loadings matrix has shape (num_pcs, num_features) =', loadings.shape, '\\n')\n",
    "print('The 19 loadings for the first two principal components are:\\n \\n', loadings[:,0:2])"
   ]
  },
  {
   "cell_type": "code",
   "execution_count": 14,
   "metadata": {
    "collapsed": false
   },
   "outputs": [
    {
     "name": "stdout",
     "output_type": "stream",
     "text": [
      "Percent Variance Explained by number of components:\n",
      "\n",
      " 1     0.383142\n",
      "2     0.601553\n",
      "3     0.708417\n",
      "4     0.790342\n",
      "5     0.842903\n",
      "6     0.886348\n",
      "7     0.922629\n",
      "8     0.949630\n",
      "9     0.962827\n",
      "10    0.972554\n",
      "11    0.979778\n",
      "12    0.986487\n",
      "13    0.991518\n",
      "14    0.994730\n",
      "15    0.997466\n",
      "16    0.998940\n",
      "17    0.999682\n",
      "18    0.999938\n",
      "19    1.000000\n",
      "dtype: float64\n"
     ]
    },
    {
     "data": {
      "image/png": "[encoded data removed]",
      "text/plain": [
       "<matplotlib.figure.Figure at 0x7f98dcc78ef0>"
      ]
     },
     "metadata": {},
     "output_type": "display_data"
    }
   ],
   "source": [
    "# Now we are ready for PCR...\n",
    "\n",
    "# Sklearn does not provide direct PC regression. We implement the procedure in a pipeline: 1-scaling, 2-PCA \n",
    "# then finally 3-regression.\n",
    "\n",
    "# list to hold cv scores and explained variances\n",
    "scores = []\n",
    "percent_variance = []\n",
    "\n",
    "# Get number of components and num samples\n",
    "num_components = list(np.arange(1,X.shape[1]+1))\n",
    "num_samples = X.shape[0]\n",
    "\n",
    "# Compute the CV score for no principal components, i.e. perform linear regression with just intercept and get CV\n",
    "scores.append(-np.mean(cross_val_score(LinearRegression(), np.ones((num_samples,1)), y,\n",
    "                                        cv=10, scoring = 'mean_squared_error')))\n",
    "for n in num_components:\n",
    "    # construct PCA obj with n_components\n",
    "    pca = PCA(n_components=n)\n",
    "    \n",
    "    # apply scaling, PCA, and Linear Regression in a pipeline\n",
    "    pipeline = Pipeline([('scaler', StandardScaler()), ('pca', pca), ('linear_regression', LinearRegression())])\n",
    "    \n",
    "    # Fit data and append cv score\n",
    "    pipeline.fit(X,y)\n",
    "    scores.append(-np.mean(cross_val_score(pipeline, X, y, scoring='mean_squared_error', cv=10)))\n",
    "    percent_variance.append(np.sum(pca.explained_variance_ratio_))\n",
    "\n",
    "print('Percent Variance Explained by number of components:\\n\\n', pd.Series(percent_variance, index=range(1,20)))\n",
    "\n",
    "# Plot CV scores across number of PCs   \n",
    "fig, ax = plt.subplots(figsize=(8,4))\n",
    "ax.plot(scores, marker='o', color='b');\n",
    "ax.set_xlabel('Number of Components');\n",
    "ax.set_ylabel('10-Fold CV Score');\n",
    "ax.set_xlim(xmin=-1);"
   ]
  },
  {
   "cell_type": "markdown",
   "metadata": {},
   "source": [
    "We find that 18 of the 19 components leads to the smallest Test MSE using 10-fold CV."
   ]
  },
  {
   "cell_type": "markdown",
   "metadata": {},
   "source": [
    "### We will now use the Validation Set Approach for Test MSE\n"
   ]
  },
  {
   "cell_type": "code",
   "execution_count": 66,
   "metadata": {
    "collapsed": false
   },
   "outputs": [
    {
     "data": {
      "image/png": "[encoded data removed]",
      "text/plain": [
       "<matplotlib.figure.Figure at 0x7f98dc866cc0>"
      ]
     },
     "metadata": {},
     "output_type": "display_data"
    }
   ],
   "source": [
    "np.random.seed(2)\n",
    "# split the data into test and validation sets\n",
    "train = np.random.choice([True, False], size=len(hitters))\n",
    "\n",
    "X_train = X[train]\n",
    "y_train = y[train]\n",
    "X_test = X[~train]\n",
    "y_test = y[~train]\n",
    "\n",
    "num_samples = X_train.shape[0]\n",
    "# list to hold cv scores\n",
    "scores = []\n",
    "\n",
    "# Get number of components and num samples of training data\n",
    "num_components = list(np.arange(1,X_train.shape[1]+1))\n",
    "num_samples = X_train.shape[0]\n",
    "\n",
    "# Compute the CV score for no principal components, i.e. perform linear regression with just intercept and get CV\n",
    "scores.append(-np.mean(cross_val_score(LinearRegression(), np.ones((num_samples,1)), y_train,\n",
    "                                        cv=10, scoring = 'mean_squared_error')))\n",
    "for n in num_components:\n",
    "    # construct PCA obj with n_components\n",
    "    pca = PCA(n_components=n)\n",
    "    \n",
    "    # apply scaling, PCA, and Linear Regression in a pipeline\n",
    "    pipeline = Pipeline([('scaler', StandardScaler()), ('pca', pca), ('linear_regression', LinearRegression())])\n",
    "    \n",
    "    # Fit data and append cv score\n",
    "    pipeline.fit(X_train,y_train)\n",
    "    scores.append(-np.mean(cross_val_score(pipeline, X_train, y_train, scoring='mean_squared_error', cv=10)))\n",
    "\n",
    "# Plot CV scores across number of PCs   \n",
    "fig, ax = plt.subplots(figsize=(8,4))\n",
    "ax.plot(scores, marker='o', color='b');\n",
    "ax.set_xlabel('Number of Components');\n",
    "ax.set_ylabel('Training 10-Fold CV Score');\n",
    "ax.set_xlim(xmin=-1);"
   ]
  },
  {
   "cell_type": "markdown",
   "metadata": {},
   "source": [
    "So 5 components give the lowest training error rate. Now apply a 5 component model to predict test set error rate."
   ]
  },
  {
   "cell_type": "code",
   "execution_count": 49,
   "metadata": {
    "collapsed": false
   },
   "outputs": [
    {
     "name": "stdout",
     "output_type": "stream",
     "text": [
      "139862.019333\n"
     ]
    }
   ],
   "source": [
    "# Set the number of components to 5 and call predict method of Linear Regression in our pipeline\n",
    "pca = PCA(n_components=5)\n",
    "\n",
    "# apply scaling, PCA, and Linear Regression in a pipeline\n",
    "pipeline = Pipeline([('scaler', StandardScaler()), ('pca', pca), ('linear_regression', LinearRegression())])\n",
    "    \n",
    "# Fit data and append cv score\n",
    "pipeline.fit(X_train,y_train) \n",
    "\n",
    "y_predict=pipeline.predict(X_test)\n",
    "\n",
    "MSE = np.mean((y_predict-y_test)**2)\n",
    "print(MSE)"
   ]
  },
  {
   "cell_type": "markdown",
   "metadata": {},
   "source": [
    "**Importantly, notice that as you change the split of the data (by varying the seed) you get different answers for the number of components that minimize the CV. It would be better with this dataset to perform LOOCV or k-fold CV. The validation approach here is highly variable and is likely overestimating the Test error rate (see 5.1.1 in book). When we performed 10-fold CV we found 17-18 components minimized the error rate. Now after splitting the data we have 5 or 6. This indicates we should not trust the validation results.**"
   ]
  },
  {
   "cell_type": "markdown",
   "metadata": {
    "collapsed": true
   },
   "source": [
    "## 6.7.2 Partial Least Squares"
   ]
  },
  {
   "cell_type": "code",
   "execution_count": 67,
   "metadata": {
    "collapsed": false
   },
   "outputs": [
    {
     "data": {
      "image/png": "[encoded data removed]",
      "text/plain": [
       "<matplotlib.figure.Figure at 0x7f98dcbbabe0>"
      ]
     },
     "metadata": {},
     "output_type": "display_data"
    }
   ],
   "source": [
    "# The call signature of PLS is very similar to PCA...\n",
    "np.random.seed(4)\n",
    "\n",
    "# split the data into test and validation sets\n",
    "train = np.random.choice([True, False], size=len(hitters))\n",
    "\n",
    "X_train = X[train]\n",
    "y_train = y[train]\n",
    "X_test = X[~train]\n",
    "y_test = y[~train]\n",
    "\n",
    "# list to hold cv scores\n",
    "scores = []\n",
    "\n",
    "# Get number of components and num samples of training data\n",
    "num_components = list(np.arange(1,X_train.shape[1]+1))\n",
    "num_samples = X_train.shape[0]\n",
    "\n",
    "# Compute the CV score for no principal components, i.e. perform linear regression with just intercept and get CV\n",
    "scores.append(-np.mean(cross_val_score(LinearRegression(), np.ones((num_samples,1)), y_train,\n",
    "                                        cv=10, scoring = 'mean_squared_error')))\n",
    "for n in num_components:\n",
    "    # construct PLS obj with n_components\n",
    "    pls = PLSRegression(n_components=n, scale=False)\n",
    "    \n",
    "    # apply scaling and then PLS Regression in a pipeline\n",
    "    pipe = Pipeline([('scaler', StandardScaler()), ('pls', pls)])\n",
    "    \n",
    "    # Fit data and append cv score\n",
    "    pipe.fit(X_train,y_train)\n",
    "    scores.append(-np.mean(cross_val_score(pipe, X_train, y_train, scoring='mean_squared_error', cv=10)))\n",
    "\n",
    "# Plot CV scores across number of PCs   \n",
    "fig, ax = plt.subplots(figsize=(8,4))\n",
    "ax.plot(scores, marker='o', color='b');\n",
    "ax.set_xlabel('Number of Components');\n",
    "ax.set_ylabel('Training 10-Fold CV Score');\n",
    "ax.set_xlim(xmin=-1);"
   ]
  },
  {
   "cell_type": "markdown",
   "metadata": {},
   "source": [
    "The lowest cross-validation error rate occurs for M=3 components. Now get the MSE of the test set using only these two components."
   ]
  },
  {
   "cell_type": "code",
   "execution_count": 62,
   "metadata": {
    "collapsed": false
   },
   "outputs": [
    {
     "name": "stdout",
     "output_type": "stream",
     "text": [
      "325974.178221\n"
     ]
    }
   ],
   "source": [
    "# Set the number of components to 3 and call predict method of PLS Regression in our pipeline\n",
    "pls = PLSRegression(n_components=3, scale=False)\n",
    "    \n",
    "# apply scaling, PCA, and Linear Regression in a pipeline\n",
    "pipe = Pipeline([('scaler', StandardScaler()), ('pls', pls)])\n",
    "    \n",
    "# Fit data and append cv score\n",
    "pipe.fit(X_train,y_train) \n",
    "\n",
    "y_predict=pipe.predict(X_test)\n",
    "\n",
    "MSE = np.mean((y_predict-y_test)**2)\n",
    "print(MSE)"
   ]
  },
  {
   "cell_type": "markdown",
   "metadata": {},
   "source": [
    "** As mentioned above the validation results are highly variable due to the small size of the dataset. This leads to dramatically different MSEs depending on the split. Again this problem can be addressed with LOOCV or K-fold CV. The book compares the MSE from this approach with the Ridge, Lasso and PCR results but this isn't really appropriate with the validation approach-- cross-validation should be used.**"
   ]
  },
  {
   "cell_type": "code",
   "execution_count": null,
   "metadata": {
    "collapsed": true
   },
   "outputs": [],
   "source": []
  }
 ],
 "metadata": {
  "kernelspec": {
   "display_name": "Python 3",
   "language": "python",
   "name": "python3"
  },
  "language_info": {
   "codemirror_mode": {
    "name": "ipython",
    "version": 3
   },
   "file_extension": ".py",
   "mimetype": "text/x-python",
   "name": "python",
   "nbconvert_exporter": "python",
   "pygments_lexer": "ipython3",
   "version": "3.5.2"
  }
 },
 "nbformat": 4,
 "nbformat_minor": 0
}
