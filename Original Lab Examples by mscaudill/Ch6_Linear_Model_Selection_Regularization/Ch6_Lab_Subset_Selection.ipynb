{
 "cells": [
  {
   "cell_type": "markdown",
   "metadata": {},
   "source": [
    "# ISLR- Python Ch6 -- Lab 1: Subset Selection Methods "
   ]
  },
  {
   "cell_type": "markdown",
   "metadata": {
    "collapsed": true
   },
   "source": [
    "- [Load Dataset](#Load-Dataset)\n",
    "- [6.5.1 Perform Best Subset Selection](#6.5.1-Perform-Best-Subset-Selection)\n",
    "- [6.5.2 Forward and Backward Stepwise Selection](#6.5.2-Forward-and-Backward-Stepwise-Selection)\n",
    "- [6.5.3 Validation and Cross Validation Model Selection](#6.5.3-Validation-and-Cross-Validation-Model-Selection)"
   ]
  },
  {
   "cell_type": "code",
   "execution_count": 35,
   "metadata": {
    "collapsed": false
   },
   "outputs": [],
   "source": [
    "# perform standard imports\n",
    "import numpy as np\n",
    "import pandas as pd\n",
    "import statsmodels.api as sm\n",
    "import scipy\n",
    "\n",
    "from tqdm import tqdm # a python package that provides progress bars for iterables\n",
    "from operator import itemgetter\n",
    "from itertools import combinations\n",
    "from sklearn.cross_validation import KFold\n",
    "from matplotlib import pyplot as plt\n",
    "\n",
    "%matplotlib inline\n",
    "plt.style.use('ggplot') # emulate R's pretty plotting\n",
    "\n",
    "# print numpy arrays with precision 4\n",
    "np.set_printoptions(precision=4)"
   ]
  },
  {
   "cell_type": "markdown",
   "metadata": {},
   "source": [
    "## Load Dataset"
   ]
  },
  {
   "cell_type": "markdown",
   "metadata": {},
   "source": [
    "The 'Hitters' dataset contains statistics for baseball players and their salaries. Some of the rows have missing data we need to locate these rows and drop them from the dataframe."
   ]
  },
  {
   "cell_type": "code",
   "execution_count": 4,
   "metadata": {
    "collapsed": false
   },
   "outputs": [
    {
     "name": "stdout",
     "output_type": "stream",
     "text": [
      "Hitters contains 322 players.\n",
      "We are missing data for 59 players.\n",
      "After removal Hitters contains 263 players.\n",
      "Shape= (263, 20)\n"
     ]
    },
    {
     "data": {
      "text/html": [
       "<div>\n",
       "<table border=\"1\" class=\"dataframe\">\n",
       "  <thead>\n",
       "    <tr style=\"text-align: right;\">\n",
       "      <th></th>\n",
       "      <th>AtBat</th>\n",
       "      <th>Hits</th>\n",
       "      <th>HmRun</th>\n",
       "      <th>Runs</th>\n",
       "      <th>RBI</th>\n",
       "      <th>Walks</th>\n",
       "      <th>Years</th>\n",
       "      <th>CAtBat</th>\n",
       "      <th>CHits</th>\n",
       "      <th>CHmRun</th>\n",
       "      <th>CRuns</th>\n",
       "      <th>CRBI</th>\n",
       "      <th>CWalks</th>\n",
       "      <th>League</th>\n",
       "      <th>Division</th>\n",
       "      <th>PutOuts</th>\n",
       "      <th>Assists</th>\n",
       "      <th>Errors</th>\n",
       "      <th>Salary</th>\n",
       "      <th>NewLeague</th>\n",
       "    </tr>\n",
       "  </thead>\n",
       "  <tbody>\n",
       "    <tr>\n",
       "      <th>-Alan Ashby</th>\n",
       "      <td>315</td>\n",
       "      <td>81</td>\n",
       "      <td>7</td>\n",
       "      <td>24</td>\n",
       "      <td>38</td>\n",
       "      <td>39</td>\n",
       "      <td>14</td>\n",
       "      <td>3449</td>\n",
       "      <td>835</td>\n",
       "      <td>69</td>\n",
       "      <td>321</td>\n",
       "      <td>414</td>\n",
       "      <td>375</td>\n",
       "      <td>N</td>\n",
       "      <td>W</td>\n",
       "      <td>632</td>\n",
       "      <td>43</td>\n",
       "      <td>10</td>\n",
       "      <td>475.0</td>\n",
       "      <td>N</td>\n",
       "    </tr>\n",
       "    <tr>\n",
       "      <th>-Alvin Davis</th>\n",
       "      <td>479</td>\n",
       "      <td>130</td>\n",
       "      <td>18</td>\n",
       "      <td>66</td>\n",
       "      <td>72</td>\n",
       "      <td>76</td>\n",
       "      <td>3</td>\n",
       "      <td>1624</td>\n",
       "      <td>457</td>\n",
       "      <td>63</td>\n",
       "      <td>224</td>\n",
       "      <td>266</td>\n",
       "      <td>263</td>\n",
       "      <td>A</td>\n",
       "      <td>W</td>\n",
       "      <td>880</td>\n",
       "      <td>82</td>\n",
       "      <td>14</td>\n",
       "      <td>480.0</td>\n",
       "      <td>A</td>\n",
       "    </tr>\n",
       "    <tr>\n",
       "      <th>-Andre Dawson</th>\n",
       "      <td>496</td>\n",
       "      <td>141</td>\n",
       "      <td>20</td>\n",
       "      <td>65</td>\n",
       "      <td>78</td>\n",
       "      <td>37</td>\n",
       "      <td>11</td>\n",
       "      <td>5628</td>\n",
       "      <td>1575</td>\n",
       "      <td>225</td>\n",
       "      <td>828</td>\n",
       "      <td>838</td>\n",
       "      <td>354</td>\n",
       "      <td>N</td>\n",
       "      <td>E</td>\n",
       "      <td>200</td>\n",
       "      <td>11</td>\n",
       "      <td>3</td>\n",
       "      <td>500.0</td>\n",
       "      <td>N</td>\n",
       "    </tr>\n",
       "    <tr>\n",
       "      <th>-Andres Galarraga</th>\n",
       "      <td>321</td>\n",
       "      <td>87</td>\n",
       "      <td>10</td>\n",
       "      <td>39</td>\n",
       "      <td>42</td>\n",
       "      <td>30</td>\n",
       "      <td>2</td>\n",
       "      <td>396</td>\n",
       "      <td>101</td>\n",
       "      <td>12</td>\n",
       "      <td>48</td>\n",
       "      <td>46</td>\n",
       "      <td>33</td>\n",
       "      <td>N</td>\n",
       "      <td>E</td>\n",
       "      <td>805</td>\n",
       "      <td>40</td>\n",
       "      <td>4</td>\n",
       "      <td>91.5</td>\n",
       "      <td>N</td>\n",
       "    </tr>\n",
       "    <tr>\n",
       "      <th>-Alfredo Griffin</th>\n",
       "      <td>594</td>\n",
       "      <td>169</td>\n",
       "      <td>4</td>\n",
       "      <td>74</td>\n",
       "      <td>51</td>\n",
       "      <td>35</td>\n",
       "      <td>11</td>\n",
       "      <td>4408</td>\n",
       "      <td>1133</td>\n",
       "      <td>19</td>\n",
       "      <td>501</td>\n",
       "      <td>336</td>\n",
       "      <td>194</td>\n",
       "      <td>A</td>\n",
       "      <td>W</td>\n",
       "      <td>282</td>\n",
       "      <td>421</td>\n",
       "      <td>25</td>\n",
       "      <td>750.0</td>\n",
       "      <td>A</td>\n",
       "    </tr>\n",
       "  </tbody>\n",
       "</table>\n",
       "</div>"
      ],
      "text/plain": [
       "                   AtBat  Hits  HmRun  Runs  RBI  Walks  Years  CAtBat  CHits  \\\n",
       "-Alan Ashby          315    81      7    24   38     39     14    3449    835   \n",
       "-Alvin Davis         479   130     18    66   72     76      3    1624    457   \n",
       "-Andre Dawson        496   141     20    65   78     37     11    5628   1575   \n",
       "-Andres Galarraga    321    87     10    39   42     30      2     396    101   \n",
       "-Alfredo Griffin     594   169      4    74   51     35     11    4408   1133   \n",
       "\n",
       "                   CHmRun  CRuns  CRBI  CWalks League Division  PutOuts  \\\n",
       "-Alan Ashby            69    321   414     375      N        W      632   \n",
       "-Alvin Davis           63    224   266     263      A        W      880   \n",
       "-Andre Dawson         225    828   838     354      N        E      200   \n",
       "-Andres Galarraga      12     48    46      33      N        E      805   \n",
       "-Alfredo Griffin       19    501   336     194      A        W      282   \n",
       "\n",
       "                   Assists  Errors  Salary NewLeague  \n",
       "-Alan Ashby             43      10   475.0         N  \n",
       "-Alvin Davis            82      14   480.0         A  \n",
       "-Andre Dawson           11       3   500.0         N  \n",
       "-Andres Galarraga       40       4    91.5         N  \n",
       "-Alfredo Griffin       421      25   750.0         A  "
      ]
     },
     "execution_count": 4,
     "metadata": {},
     "output_type": "execute_result"
    }
   ],
   "source": [
    "# Load the Hitters dataset. Pandas offers great flexibillity with dealing with missing values as keywords to \n",
    "# pd.read but lets read in all values so we can see how many we are missing.\n",
    "hitters = pd.read_csv('../../data/Hitters.csv',index_col=0)\n",
    "\n",
    "# Get the number of players  and the number of players with missing values\n",
    "print('Hitters contains', len(hitters), 'players.')\n",
    "num_missing = np.sum(hitters.isnull().any(axis=1))\n",
    "print('We are missing data for', num_missing, 'players.')\n",
    "\n",
    "# now remove the missing players for dataframe\n",
    "hitters = hitters.dropna()\n",
    "print('After removal Hitters contains', len(hitters), 'players.')\n",
    "print('Shape=', hitters.shape)\n",
    "hitters.head()"
   ]
  },
  {
   "cell_type": "markdown",
   "metadata": {},
   "source": [
    "Notice that columns League, Division and NewLeague are categorical. We will need to make dummy variables for these."
   ]
  },
  {
   "cell_type": "code",
   "execution_count": 5,
   "metadata": {
    "collapsed": false
   },
   "outputs": [
    {
     "data": {
      "text/html": [
       "<div>\n",
       "<table border=\"1\" class=\"dataframe\">\n",
       "  <thead>\n",
       "    <tr style=\"text-align: right;\">\n",
       "      <th></th>\n",
       "      <th>League_A</th>\n",
       "      <th>League_N</th>\n",
       "      <th>Division_E</th>\n",
       "      <th>Division_W</th>\n",
       "      <th>NewLeague_A</th>\n",
       "      <th>NewLeague_N</th>\n",
       "    </tr>\n",
       "  </thead>\n",
       "  <tbody>\n",
       "    <tr>\n",
       "      <th>-Alan Ashby</th>\n",
       "      <td>0</td>\n",
       "      <td>1</td>\n",
       "      <td>0</td>\n",
       "      <td>1</td>\n",
       "      <td>0</td>\n",
       "      <td>1</td>\n",
       "    </tr>\n",
       "    <tr>\n",
       "      <th>-Alvin Davis</th>\n",
       "      <td>1</td>\n",
       "      <td>0</td>\n",
       "      <td>0</td>\n",
       "      <td>1</td>\n",
       "      <td>1</td>\n",
       "      <td>0</td>\n",
       "    </tr>\n",
       "  </tbody>\n",
       "</table>\n",
       "</div>"
      ],
      "text/plain": [
       "              League_A  League_N  Division_E  Division_W  NewLeague_A  \\\n",
       "-Alan Ashby          0         1           0           1            0   \n",
       "-Alvin Davis         1         0           0           1            1   \n",
       "\n",
       "              NewLeague_N  \n",
       "-Alan Ashby             1  \n",
       "-Alvin Davis            0  "
      ]
     },
     "execution_count": 5,
     "metadata": {},
     "output_type": "execute_result"
    }
   ],
   "source": [
    "# Create a set of dummy variables for the categoricals\n",
    "dummies = pd.get_dummies(hitters[['League', 'Division', 'NewLeague']])\n",
    "dummies.head(2)"
   ]
  },
  {
   "cell_type": "code",
   "execution_count": 6,
   "metadata": {
    "collapsed": false
   },
   "outputs": [
    {
     "data": {
      "text/html": [
       "<div>\n",
       "<table border=\"1\" class=\"dataframe\">\n",
       "  <thead>\n",
       "    <tr style=\"text-align: right;\">\n",
       "      <th></th>\n",
       "      <th>AtBat</th>\n",
       "      <th>Hits</th>\n",
       "      <th>HmRun</th>\n",
       "      <th>Runs</th>\n",
       "      <th>RBI</th>\n",
       "      <th>Walks</th>\n",
       "      <th>Years</th>\n",
       "      <th>CAtBat</th>\n",
       "      <th>CHits</th>\n",
       "      <th>CHmRun</th>\n",
       "      <th>CRuns</th>\n",
       "      <th>CRBI</th>\n",
       "      <th>CWalks</th>\n",
       "      <th>PutOuts</th>\n",
       "      <th>Assists</th>\n",
       "      <th>Errors</th>\n",
       "      <th>Salary</th>\n",
       "      <th>League_N</th>\n",
       "      <th>Division_W</th>\n",
       "      <th>NewLeague_N</th>\n",
       "    </tr>\n",
       "  </thead>\n",
       "  <tbody>\n",
       "    <tr>\n",
       "      <th>-Alan Ashby</th>\n",
       "      <td>315</td>\n",
       "      <td>81</td>\n",
       "      <td>7</td>\n",
       "      <td>24</td>\n",
       "      <td>38</td>\n",
       "      <td>39</td>\n",
       "      <td>14</td>\n",
       "      <td>3449</td>\n",
       "      <td>835</td>\n",
       "      <td>69</td>\n",
       "      <td>321</td>\n",
       "      <td>414</td>\n",
       "      <td>375</td>\n",
       "      <td>632</td>\n",
       "      <td>43</td>\n",
       "      <td>10</td>\n",
       "      <td>475</td>\n",
       "      <td>1</td>\n",
       "      <td>1</td>\n",
       "      <td>1</td>\n",
       "    </tr>\n",
       "    <tr>\n",
       "      <th>-Alvin Davis</th>\n",
       "      <td>479</td>\n",
       "      <td>130</td>\n",
       "      <td>18</td>\n",
       "      <td>66</td>\n",
       "      <td>72</td>\n",
       "      <td>76</td>\n",
       "      <td>3</td>\n",
       "      <td>1624</td>\n",
       "      <td>457</td>\n",
       "      <td>63</td>\n",
       "      <td>224</td>\n",
       "      <td>266</td>\n",
       "      <td>263</td>\n",
       "      <td>880</td>\n",
       "      <td>82</td>\n",
       "      <td>14</td>\n",
       "      <td>480</td>\n",
       "      <td>0</td>\n",
       "      <td>1</td>\n",
       "      <td>0</td>\n",
       "    </tr>\n",
       "  </tbody>\n",
       "</table>\n",
       "</div>"
      ],
      "text/plain": [
       "              AtBat  Hits  HmRun  Runs  RBI  Walks  Years  CAtBat  CHits  \\\n",
       "-Alan Ashby     315    81      7    24   38     39     14    3449    835   \n",
       "-Alvin Davis    479   130     18    66   72     76      3    1624    457   \n",
       "\n",
       "              CHmRun  CRuns  CRBI  CWalks  PutOuts  Assists  Errors  Salary  \\\n",
       "-Alan Ashby       69    321   414     375      632       43      10     475   \n",
       "-Alvin Davis      63    224   266     263      880       82      14     480   \n",
       "\n",
       "              League_N  Division_W  NewLeague_N  \n",
       "-Alan Ashby          1           1            1  \n",
       "-Alvin Davis         0           1            0  "
      ]
     },
     "execution_count": 6,
     "metadata": {},
     "output_type": "execute_result"
    }
   ],
   "source": [
    "# Generate new dataframe with new dummy variables\n",
    "df = hitters.drop(['League', 'Division', 'NewLeague'], axis=1)\n",
    "# add new dummy variables\n",
    "df = pd.concat([df, dummies[['League_N', 'Division_W', 'NewLeague_N']]],axis=1)\n",
    "df.head(2)"
   ]
  },
  {
   "cell_type": "markdown",
   "metadata": {},
   "source": [
    "## 6.5.1 Perform Best Subset Selection"
   ]
  },
  {
   "cell_type": "markdown",
   "metadata": {},
   "source": [
    "Best subset selection forms every possible model from the predictors. It then compares models with the same nuber of predictors using RSS or R^2. Once the best model is picked for a given number of predictors, Models with different numbers of predictors are compared using one of the information criteria (AIC, BIC, Adj R^2), or by Cross-validation to select from among the models the model with the lowest TEST MSE.\n",
    "\n",
    "In general, this method is not used because the computational cost is high. For a model with p-predictors, we must consider 2^p models. As such there is not a 'built-in' sklearn module for doing this. We will write a few helper functions to accomplish model selection."
   ]
  },
  {
   "cell_type": "code",
   "execution_count": 7,
   "metadata": {
    "collapsed": false
   },
   "outputs": [],
   "source": [
    "def best_subsets(dataframe, predictors, response, max_features=8):\n",
    "    \"\"\"\n",
    "    Regresses response onto subsets of the predictors in dataframe. Compares models with equal feature \n",
    "    numbers choosing the one with the lowest RSS as the 'best' model for that number of features.\n",
    "    \n",
    "    PARAMETERS\n",
    "    ----------\n",
    "    dataframe : pandas dataframe obj containing responses and predictors\n",
    "    predictors : list of column names of dataframe used as features\n",
    "    response : list of column name of dataframe used as target\n",
    "    \n",
    "    RETURNS\n",
    "    -------\n",
    "    a list of best models, one per feature number\n",
    "    \n",
    "    ex.\n",
    "    [best 1 feat model, best two feat model] = best_subsets(df, predictors, response, max_features = 2)\n",
    "    \"\"\"\n",
    "    \n",
    "    def process_linear_model(features):\n",
    "        \"\"\"\n",
    "        Constructs Linear Model Regression of response onto features.\n",
    "        \"\"\"\n",
    "        # Create design Matrix\n",
    "        X = sm.add_constant(dataframe[features])\n",
    "        y = dataframe[response]\n",
    "\n",
    "        model = sm.OLS(y,X).fit()\n",
    "        RSS = model.ssr\n",
    "        return (model, RSS)\n",
    "\n",
    "    def get_best_kth_model(k):\n",
    "        \"\"\"\n",
    "        Returns the model from all models with k-predictors with the lowest RSS.\n",
    "        \"\"\"\n",
    "        results = []\n",
    "\n",
    "        for combo in combinations(predictors, k):\n",
    "            # process linear model with this combo of features\n",
    "            results.append(process_linear_model(list(combo)))\n",
    "\n",
    "        # sort the models and return the one with the smallest RSS\n",
    "        return sorted(results, key= itemgetter(1)).pop(0)[0]\n",
    "    \n",
    "    models =[]\n",
    "    for k in tqdm(range(1,max_features+1)):\n",
    "        models.append(get_best_kth_model(k))\n",
    "    \n",
    "    return models"
   ]
  },
  {
   "cell_type": "code",
   "execution_count": 64,
   "metadata": {
    "collapsed": false
   },
   "outputs": [
    {
     "name": "stderr",
     "output_type": "stream",
     "text": [
      "100%|██████████| 19/19 [21:00<00:00, 66.36s/it]\n"
     ]
    }
   ],
   "source": [
    "# call our best_subsets function\n",
    "predictors = list(df.columns)\n",
    "predictors.remove('Salary')\n",
    "models = best_subsets(df, predictors, ['Salary'], max_features=19)"
   ]
  },
  {
   "cell_type": "code",
   "execution_count": 65,
   "metadata": {
    "collapsed": false,
    "scrolled": true
   },
   "outputs": [
    {
     "data": {
      "text/plain": [
       "const   -47.955902\n",
       "Hits      3.300845\n",
       "CRBI      0.689899\n",
       "dtype: float64"
      ]
     },
     "execution_count": 65,
     "metadata": {},
     "output_type": "execute_result"
    }
   ],
   "source": [
    "# The best two variable model has CRBI and Hits as predictors\n",
    "models[1].params"
   ]
  },
  {
   "cell_type": "markdown",
   "metadata": {},
   "source": [
    "### Plot Best Models for Each Predictor Number"
   ]
  },
  {
   "cell_type": "code",
   "execution_count": 75,
   "metadata": {
    "collapsed": false
   },
   "outputs": [
    {
     "data": {
      "image/png": "[encoded data removed]",
      "text/plain": [
       "<matplotlib.figure.Figure at 0x7fd7680aeb38>"
      ]
     },
     "metadata": {},
     "output_type": "display_data"
    }
   ],
   "source": [
    "# Now that we have the best models for a given number of varaibles we can compare models with different\n",
    "# predictors using aic, bic and r_adj. Note AIC and Mallow's Cp are proportional to each other. We will \n",
    "# create plots of these statistics to find the best model for baseball player salary.\n",
    "aics = [models[x].aic for x in range(len(models))]\n",
    "bics = [models[x].bic for x in range(len(models))]\n",
    "r_adj = [models[x].rsquared_adj for x in range(len(models))]\n",
    "\n",
    "# find the mins/maxes\n",
    "min_aic_index, min_aic = min(enumerate(aics), key=itemgetter(1))\n",
    "min_bic_index, min_bic = min(enumerate(bics), key=itemgetter(1))\n",
    "max_radj_index, max_radj = max(enumerate(r_adj), key=itemgetter(1))\n",
    "\n",
    "num_predictors = np.linspace(1,len(models),len(models))\n",
    "# Create a plot\n",
    "fig,(ax1, ax2) = plt.subplots(1,2,figsize=(16,4))\n",
    "# Add test MSE estimates\n",
    "ax1.plot(num_predictors, aics, 'r', marker='o', label='AIC');\n",
    "ax1.plot(num_predictors, bics, 'b', marker='o', label='BIC')\n",
    "\n",
    "# add the minimums to the axis\n",
    "ax1.plot(min_aic_index+1, min_aic, 'gx', markersize=20, markeredgewidth=1)\n",
    "ax1.plot(min_bic_index+1, min_bic, 'gx', markersize=20, markeredgewidth=1)\n",
    "\n",
    "# Labels and Legend\n",
    "ax1.set_xlabel('Number of Predictors');\n",
    "ax1.set_ylabel('Test MSE');\n",
    "ax1.legend(loc='best');\n",
    "\n",
    "# Add Adj R**2\n",
    "ax2.plot(num_predictors, r_adj,'k', marker='o')\n",
    "ax2.plot(max_radj_index+1, max_radj, 'gx', markersize=20, markeredgewidth=1)\n",
    "ax2.set_xlabel('Number of Predictors');\n",
    "ax2.set_ylabel('Adjusted R**2');"
   ]
  },
  {
   "cell_type": "markdown",
   "metadata": {},
   "source": [
    "So all the estimates of the test error indicate we need a model with more than 5 predictors. The AIC and Adj $R^2$ indicate 10-11 predictors and the BIC statistic indcates 6 predictors."
   ]
  },
  {
   "cell_type": "code",
   "execution_count": 78,
   "metadata": {
    "collapsed": false
   },
   "outputs": [
    {
     "data": {
      "text/plain": [
       "const          91.511798\n",
       "AtBat          -1.868589\n",
       "Hits            7.604398\n",
       "Walks           3.697647\n",
       "CRBI            0.643017\n",
       "PutOuts         0.264308\n",
       "Division_W   -122.951534\n",
       "dtype: float64"
      ]
     },
     "execution_count": 78,
     "metadata": {},
     "output_type": "execute_result"
    }
   ],
   "source": [
    "# The Lowest BIC model has the following coeffecients\n",
    "models[5].params"
   ]
  },
  {
   "cell_type": "markdown",
   "metadata": {
    "collapsed": true
   },
   "source": [
    "## 6.5.2 Forward and Backward Stepwise Selection"
   ]
  },
  {
   "cell_type": "markdown",
   "metadata": {},
   "source": [
    "As with Best-Subset Selection, we will need to custom write methods for performing Forward and Backward Stepwise selection. In sklearn there is a method called recusrsive feature elimination similar to Backward Stepwise Selection, but no methods I can find for Forward Selection.\n",
    "\n",
    "The Forward Stepwise Selection algortihm sequentially adds predictors to the null model selecting the predictors that result in the lowest RSS for each added predictor. It then compares models with different features using Information Criteria or Cross-Validatation."
   ]
  },
  {
   "cell_type": "code",
   "execution_count": 12,
   "metadata": {
    "collapsed": false
   },
   "outputs": [],
   "source": [
    "def forward_step_select(df, predictors, response, max_features=len(predictors)):\n",
    "    \"\"\"\n",
    "    Regresses response onto predictors using a forward step algorithm. Features are added based on minimum RSS.\n",
    "    \n",
    "    PARAMETERS\n",
    "    -----------\n",
    "    df : dataframe containing predictors and responses\n",
    "    predictors : list of all possible model predictors\n",
    "    response : list[variable] to regress onto predictors in df\n",
    "    max_features : maximum number of features to use from predictors list\n",
    "    \n",
    "    RETURNS\n",
    "    --------\n",
    "    list of models with increasing number of features upto max_features\n",
    "    \n",
    "    \"\"\"\n",
    "    \n",
    "    def process_linear_model(features):\n",
    "        \"\"\"\n",
    "        Constructs Linear Model Regression of response onto features.\n",
    "        \"\"\"\n",
    "        # Create design Matrix\n",
    "        X = sm.add_constant(df[features])\n",
    "        y = df[response]\n",
    "\n",
    "        model = sm.OLS(y,X).fit()\n",
    "        RSS = model.ssr\n",
    "        return (model, RSS)\n",
    "\n",
    "    def update_model(best_features, remaining_features):\n",
    "        \"\"\"\n",
    "        Computes the RSS of possible new models and returns the model with the lowest RSS.\n",
    "        \"\"\"\n",
    "        results = []\n",
    "        \n",
    "        for feature in remaining_features:\n",
    "            results.append(process_linear_model(best_features + [feature]))\n",
    "            \n",
    "        # select model with the lowest RSS\n",
    "        new_model = sorted(results, key= itemgetter(1)).pop(0)[0]\n",
    "        new_features = list(new_model.params.index)[1:]\n",
    "        \n",
    "        return new_features, new_model\n",
    "    \n",
    "    # Create list to hold models, model features and the remaining features to test\n",
    "    models = []\n",
    "    best_features = []\n",
    "    remaining_features = predictors\n",
    "    \n",
    "    while remaining_features and len(best_features) < max_features:\n",
    "        \n",
    "        # get the best new feature set from update_model\n",
    "        new_features, new_model = update_model(best_features, remaining_features)\n",
    "        # update the best features to include the one we just found\n",
    "        best_features = new_features  \n",
    "        # reduce the available features for the next round\n",
    "        remaining_features =  [feature for feature in predictors if feature not in best_features]\n",
    "        \n",
    "        # append the new_features and model so we can compare models with different features later\n",
    "        models.append((new_features,new_model))\n",
    "        \n",
    "    return models"
   ]
  },
  {
   "cell_type": "code",
   "execution_count": 17,
   "metadata": {
    "collapsed": true
   },
   "outputs": [],
   "source": [
    "# Call our forward step function\n",
    "# set up inputs\n",
    "predictors = list(df.columns)\n",
    "predictors.remove('Salary')\n",
    "# call forward_step_select\n",
    "mods = forward_step_select(df,predictors,['Salary'],max_features=19)"
   ]
  },
  {
   "cell_type": "code",
   "execution_count": 13,
   "metadata": {
    "collapsed": false
   },
   "outputs": [
    {
     "data": {
      "text/plain": [
       "const         109.787306\n",
       "CRBI            0.853762\n",
       "Hits            7.449877\n",
       "PutOuts         0.253340\n",
       "Division_W   -127.122393\n",
       "AtBat          -1.958885\n",
       "Walks           4.913140\n",
       "CWalks         -0.305307\n",
       "dtype: float64"
      ]
     },
     "execution_count": 13,
     "metadata": {},
     "output_type": "execute_result"
    }
   ],
   "source": [
    "mods[6][1].params # The seventh models features agree with regsubsets fwd result from lab."
   ]
  },
  {
   "cell_type": "markdown",
   "metadata": {},
   "source": [
    "Backwards subset selection (not implemented here) works very similary to forward except we remove features in the update_model function based on the feature which reduces the RSS the most. In the TEST MSE plot above we are moving from right to left reducing the number of predictors until we reach a minimum in the AIC or BIC curve."
   ]
  },
  {
   "cell_type": "markdown",
   "metadata": {
    "collapsed": true
   },
   "source": [
    "## 6.5.3 Validation and Cross Validation Model Selection"
   ]
  },
  {
   "cell_type": "markdown",
   "metadata": {},
   "source": [
    "### Validation: Train/Test Split"
   ]
  },
  {
   "cell_type": "markdown",
   "metadata": {},
   "source": [
    "We start by splitting the data into a train set and a test set to perform validation."
   ]
  },
  {
   "cell_type": "code",
   "execution_count": 24,
   "metadata": {
    "collapsed": true
   },
   "outputs": [],
   "source": [
    "# create an index to break the hitters dataframe into a train and test set that are roughly equal in size\n",
    "np.random.seed(0)\n",
    "index = np.random.choice([True, False], size=len(df))\n",
    "\n",
    "# split the data into train and validation sets\n",
    "df_train = df[index]\n",
    "df_test = df[~index]"
   ]
  },
  {
   "cell_type": "markdown",
   "metadata": {},
   "source": [
    "### Construct models from the Train Set"
   ]
  },
  {
   "cell_type": "code",
   "execution_count": 25,
   "metadata": {
    "collapsed": false
   },
   "outputs": [
    {
     "name": "stderr",
     "output_type": "stream",
     "text": [
      "100%|██████████| 19/19 [18:54<00:00, 59.73s/it]\n"
     ]
    }
   ],
   "source": [
    "# Now we construct models from the training set selecting the best models using our best_subsets function\n",
    "predictors = list(df_train.columns)\n",
    "predictors.remove('Salary')\n",
    "models = best_subsets(df_train, predictors, ['Salary'], max_features=19)"
   ]
  },
  {
   "cell_type": "markdown",
   "metadata": {},
   "source": [
    "### Evaluate MSE of Models on Validation Set"
   ]
  },
  {
   "cell_type": "code",
   "execution_count": 11,
   "metadata": {
    "collapsed": false
   },
   "outputs": [
    {
     "name": "stdout",
     "output_type": "stream",
     "text": [
      "MSEs = [ 197453.6869  174455.6938  171032.0227  157148.6279  160632.673\n",
      "  157574.844   163299.0029  159484.9149  163055.7555  162809.7743\n",
      "  156822.2382  160005.0154  159949.2195  156373.8562  157087.9244\n",
      "  158351.0176  158340.0544  157564.9262  156763.4384]\n"
     ]
    }
   ],
   "source": [
    "# now for each of the models we will perform prediction and get MSE on the test data\n",
    "mses = np.array([])\n",
    "for model in models:\n",
    "    # get the predictors for this model, ignore constant\n",
    "    features = list(model.params.index[1:])\n",
    "    \n",
    "    # get the corresponding columns of df_test\n",
    "    X_test = sm.add_constant(df_test[features])\n",
    "    \n",
    "    # make prediction for this model\n",
    "    salary_pred = model.predict(X_test)\n",
    "    \n",
    "    # get the MSE for this model\n",
    "    mses = np.append(mses, np.mean((salary_pred - df_test.Salary.values)**2))\n",
    "print('MSEs =', mses)"
   ]
  },
  {
   "cell_type": "markdown",
   "metadata": {},
   "source": [
    "### Determine the Best Model (lowest Test MSE)"
   ]
  },
  {
   "cell_type": "code",
   "execution_count": 47,
   "metadata": {
    "collapsed": false
   },
   "outputs": [
    {
     "name": "stdout",
     "output_type": "stream",
     "text": [
      "13 156373.856185\n"
     ]
    }
   ],
   "source": [
    "min_index, min_mse = min(enumerate(mses), key=itemgetter(1))\n",
    "print(min_index, min_mse)"
   ]
  },
  {
   "cell_type": "markdown",
   "metadata": {},
   "source": [
    "Note this result is different from the lab. Here we have found the lowest MSE for a 14 variable model. The difference is likely due to a different split of the data into train and validation sets."
   ]
  },
  {
   "cell_type": "code",
   "execution_count": 53,
   "metadata": {
    "collapsed": false
   },
   "outputs": [
    {
     "name": "stdout",
     "output_type": "stream",
     "text": [
      "10 Variable Model: ['const', 'AtBat', 'Hits', 'CHits', 'CHmRun', 'CRuns', 'CWalks', 'PutOuts', 'Errors', 'League_N', 'NewLeague_N']\n"
     ]
    }
   ],
   "source": [
    "# The best 10 variable model (as in the text) is\n",
    "print('10 Variable Model:', list(models[9].params.index))"
   ]
  },
  {
   "cell_type": "code",
   "execution_count": 54,
   "metadata": {
    "collapsed": false
   },
   "outputs": [
    {
     "name": "stdout",
     "output_type": "stream",
     "text": [
      "14-Variable Model: ['const', 'AtBat', 'Hits', 'HmRun', 'Runs', 'Walks', 'CHits', 'CHmRun', 'CRuns', 'CWalks', 'PutOuts', 'Errors', 'League_N', 'NewLeague_N']\n"
     ]
    }
   ],
   "source": [
    "# The model we found here was 14 variables\n",
    "print('14-Variable Model:', list(models[12].params.index))"
   ]
  },
  {
   "cell_type": "markdown",
   "metadata": {},
   "source": [
    "### Plot MSEs "
   ]
  },
  {
   "cell_type": "code",
   "execution_count": 61,
   "metadata": {
    "collapsed": false
   },
   "outputs": [
    {
     "data": {
      "image/png": "[encoded data removed]",
      "text/plain": [
       "<matplotlib.figure.Figure at 0x7f355aed7710>"
      ]
     },
     "metadata": {},
     "output_type": "display_data"
    }
   ],
   "source": [
    "# We can also plot all the models MSEs\n",
    "# set predictors for x-axis\n",
    "num_predictors = np.linspace(1,len(models),len(models))\n",
    "\n",
    "fig, ax1 = plt.subplots(figsize=(8,4));\n",
    "\n",
    "# add the mse and mimimum mse to the plot\n",
    "ax1.plot(num_predictors, mses, 'r', marker='o', label='MSE')\n",
    "ax1.plot(min_index+1, min_mse, 'gx', markersize=20, markeredgewidth=2)\n",
    "\n",
    "# Labels and Legend\n",
    "ax1.set_xlabel('Number of Predictors');\n",
    "ax1.set_ylabel('Validation MSE');\n",
    "ax1.legend(loc='best');"
   ]
  },
  {
   "cell_type": "markdown",
   "metadata": {},
   "source": [
    "### Get Coeffecients of Best Validation Approach Model"
   ]
  },
  {
   "cell_type": "markdown",
   "metadata": {},
   "source": [
    "Now that we now the best model involves 14 variables, we will perform the best-subset selection again to get the coeffecients of the 14 variable model. We do this to get more accurate estimates of the coeffecients in the 14 variable model."
   ]
  },
  {
   "cell_type": "code",
   "execution_count": 26,
   "metadata": {
    "collapsed": false
   },
   "outputs": [
    {
     "name": "stderr",
     "output_type": "stream",
     "text": [
      "100%|██████████| 19/19 [21:49<00:00, 68.92s/it]"
     ]
    },
    {
     "name": "stdout",
     "output_type": "stream",
     "text": [
      "const         144.679318\n",
      "AtBat          -2.088328\n",
      "Hits            7.643645\n",
      "HmRun           2.340652\n",
      "Runs           -2.358048\n",
      "Walks           6.179471\n",
      "CAtBat         -0.148807\n",
      "CRuns           1.593162\n",
      "CRBI            0.717077\n",
      "CWalks         -0.856584\n",
      "PutOuts         0.287618\n",
      "Assists         0.367731\n",
      "Errors         -3.127125\n",
      "League_N       44.235227\n",
      "Division_W   -112.807991\n",
      "dtype: float64\n"
     ]
    },
    {
     "name": "stderr",
     "output_type": "stream",
     "text": [
      "\n"
     ]
    }
   ],
   "source": [
    "# Now we construct models from the FULL DATASET selecting the best models using our best_subsets function\n",
    "predictors = list(df.columns)\n",
    "predictors.remove('Salary')\n",
    "models = best_subsets(df, predictors, ['Salary'], max_features=19)\n",
    "\n",
    "# Print out the Coeffecients of the 14 predictor model determined as Best by Validation approach above.\n",
    "print(models[13].params)"
   ]
  },
  {
   "cell_type": "markdown",
   "metadata": {},
   "source": [
    "Notice that the 14 variable model from the full data set is not the same as the 14 variable model ascertained from the training dataset."
   ]
  },
  {
   "cell_type": "markdown",
   "metadata": {},
   "source": [
    "## Cross-Validation Model Selection"
   ]
  },
  {
   "cell_type": "markdown",
   "metadata": {},
   "source": [
    "For Cross-Validation we will split the data into 10-folds. For each fold, we will compute the best models, one per model dimension where the dimension is from one feature to all features. So in total we will have the MSE for 19 models in each of the 10 folds. We will average the MSEs across folds to get the Cross-Validation Test MSE."
   ]
  },
  {
   "cell_type": "code",
   "execution_count": 27,
   "metadata": {
    "collapsed": false
   },
   "outputs": [
    {
     "name": "stderr",
     "output_type": "stream",
     "text": [
      "100%|██████████| 19/19 [20:02<00:00, 63.31s/it]\n",
      "100%|██████████| 19/19 [19:38<00:00, 62.01s/it]\n",
      "100%|██████████| 19/19 [19:42<00:00, 62.24s/it]\n",
      "100%|██████████| 19/19 [19:45<00:00, 62.38s/it]\n",
      "100%|██████████| 19/19 [19:40<00:00, 62.11s/it]\n",
      "100%|██████████| 19/19 [19:16<00:00, 60.88s/it]\n",
      "100%|██████████| 19/19 [19:11<00:00, 60.62s/it]\n",
      "100%|██████████| 19/19 [19:08<00:00, 60.46s/it]\n",
      "100%|██████████| 19/19 [18:57<00:00, 59.88s/it]\n",
      "100%|██████████| 19/19 [18:54<00:00, 59.71s/it]\n"
     ]
    }
   ],
   "source": [
    "# Create the 10 folds using sklearn KFolds\n",
    "kf = KFold(len(df),n_folds=10, random_state=1)\n",
    "\n",
    "mses = np.zeros([10, len(predictors)])\n",
    "\n",
    "for fold, (train, test) in enumerate(kf):\n",
    "    \n",
    "    # split data for this fold\n",
    "    df_train = df.iloc[train]\n",
    "    df_test = df.iloc[test]\n",
    "    \n",
    "    # compute the best model subsets using our function\n",
    "    models = best_subsets(df_train, predictors, ['Salary'], max_features=19)\n",
    "    \n",
    "    # compute the MSE of each model\n",
    "    for idx, model in enumerate(models):\n",
    "        # get the predictors for this model, ignore constant\n",
    "        features = list(model.params.index[1:])\n",
    "    \n",
    "        # get the corresponding columns of df_test\n",
    "        X_test = sm.add_constant(df_test[features])\n",
    "    \n",
    "        # make prediction for this model\n",
    "        salary_pred = model.predict(X_test)\n",
    "    \n",
    "        # get the MSE for this model and fold\n",
    "        mses[fold, idx] = np.mean((salary_pred - df_test.Salary.values)**2)\n",
    "        \n",
    "# now we can compute the mean MSE across folds, one per model with idx features\n",
    "cvs = np.mean(mses, axis=0) "
   ]
  },
  {
   "cell_type": "markdown",
   "metadata": {},
   "source": [
    "### Plot Cross-Validation Errors"
   ]
  },
  {
   "cell_type": "code",
   "execution_count": 34,
   "metadata": {
    "collapsed": false
   },
   "outputs": [
    {
     "data": {
      "image/png": "[encoded data removed]",
      "text/plain": [
       "<matplotlib.figure.Figure at 0x7f79e784cf28>"
      ]
     },
     "metadata": {},
     "output_type": "display_data"
    }
   ],
   "source": [
    "# We can also plot all the models CV-Errors\n",
    "# set predictors for x-axis\n",
    "num_predictors = np.linspace(1,len(models),len(models))\n",
    "\n",
    "fig, ax1 = plt.subplots(figsize=(8,4));\n",
    "\n",
    "# get the minimum in the CV\n",
    "min_index, min_CV = min(enumerate(cvs), key=itemgetter(1))\n",
    "\n",
    "# add the mse and mimimum mse to the plot\n",
    "ax1.plot(num_predictors, cvs, 'b', marker='o', label='Test MSE')\n",
    "ax1.plot(min_index+1, min_CV, 'rx', markersize=20, markeredgewidth=2)\n",
    "\n",
    "# Labels and Legend\n",
    "ax1.set_xlabel('Number of Predictors');\n",
    "ax1.set_ylabel('CV Error');\n",
    "ax1.legend(loc='best');"
   ]
  },
  {
   "cell_type": "markdown",
   "metadata": {},
   "source": [
    "So an 11 variable model yields the lowest Test MSE. The last step is to run best_subset to get the 11 variable model on the FULL dataset. "
   ]
  },
  {
   "cell_type": "code",
   "execution_count": 31,
   "metadata": {
    "collapsed": false
   },
   "outputs": [
    {
     "name": "stderr",
     "output_type": "stream",
     "text": [
      "100%|██████████| 19/19 [21:51<00:00, 69.04s/it]\n"
     ]
    }
   ],
   "source": [
    "# Compute the best subset models\n",
    "models = best_subsets(df, predictors, ['Salary'], max_features=19)"
   ]
  },
  {
   "cell_type": "code",
   "execution_count": 33,
   "metadata": {
    "collapsed": false
   },
   "outputs": [
    {
     "name": "stdout",
     "output_type": "stream",
     "text": [
      "const         135.751219\n",
      "AtBat          -2.127748\n",
      "Hits            6.923699\n",
      "Walks           5.620276\n",
      "CAtBat         -0.138991\n",
      "CRuns           1.455331\n",
      "CRBI            0.785253\n",
      "CWalks         -0.822856\n",
      "PutOuts         0.289409\n",
      "Assists         0.268828\n",
      "League_N       43.111615\n",
      "Division_W   -111.146025\n",
      "dtype: float64\n"
     ]
    }
   ],
   "source": [
    "# print the parameters of the 11th model; the model with the lowest Test MSE determined by 10-fold Cross-Validation\n",
    "print(models[10].params)"
   ]
  },
  {
   "cell_type": "markdown",
   "metadata": {},
   "source": [
    "Note: we have written several functions for doing subset selection: best_subsets, forward_step_select, and loops for doing predictions. It would be a good idea to roll all this functionality into a class called \"sub_select\" with methods to perform each of the operations we carried out here."
   ]
  }
 ],
 "metadata": {
  "kernelspec": {
   "display_name": "Python 3",
   "language": "python",
   "name": "python3"
  },
  "language_info": {
   "codemirror_mode": {
    "name": "ipython",
    "version": 3
   },
   "file_extension": ".py",
   "mimetype": "text/x-python",
   "name": "python",
   "nbconvert_exporter": "python",
   "pygments_lexer": "ipython3",
   "version": "3.5.2"
  }
 },
 "nbformat": 4,
 "nbformat_minor": 0
}
