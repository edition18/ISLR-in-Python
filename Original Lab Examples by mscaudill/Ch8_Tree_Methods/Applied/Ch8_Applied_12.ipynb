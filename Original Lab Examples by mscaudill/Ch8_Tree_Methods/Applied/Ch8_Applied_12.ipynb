{
 "cells": [
  {
   "cell_type": "markdown",
   "metadata": {},
   "source": [
    "# ISLR - Python Ch8 Applied 12"
   ]
  },
  {
   "cell_type": "markdown",
   "metadata": {},
   "source": [
    "- [Import Boston Housing Dataset](#Import-Boston-Housing-Dataset)\n",
    "- [Build and Validate a Bagging Model](#Build-and-Validate-a-Bagging-Model)\n",
    "- [Build and Validate a Random Forest Model](#Build-and-Validate-a-Random-Forest-Model)\n",
    "- [Build and Validate a Boosting Model](#Build-and-Validate-a-Boosting-Model)\n",
    "- [Compare Results with a Linear Model](#Compare-Results-with-a-Linear-Model)"
   ]
  },
  {
   "cell_type": "code",
   "execution_count": 71,
   "metadata": {
    "collapsed": false
   },
   "outputs": [],
   "source": [
    "import numpy as np\n",
    "import pandas as pd\n",
    "import matplotlib.pyplot as plt\n",
    "\n",
    "from sklearn.ensemble import RandomForestRegressor\n",
    "from sklearn.ensemble import GradientBoostingRegressor\n",
    "from sklearn.linear_model import LassoCV, Lasso\n",
    "from sklearn.cross_validation import cross_val_score\n",
    "\n",
    "\n",
    "%matplotlib inline\n",
    "plt.style.use('ggplot')"
   ]
  },
  {
   "cell_type": "markdown",
   "metadata": {},
   "source": [
    "## Import Boston Housing Dataset"
   ]
  },
  {
   "cell_type": "code",
   "execution_count": 4,
   "metadata": {
    "collapsed": false
   },
   "outputs": [],
   "source": [
    "boston = pd.read_csv('../../../data/Boston.csv', index_col=0)"
   ]
  },
  {
   "cell_type": "code",
   "execution_count": 11,
   "metadata": {
    "collapsed": false
   },
   "outputs": [
    {
     "data": {
      "text/html": [
       "<div>\n",
       "<table border=\"1\" class=\"dataframe\">\n",
       "  <thead>\n",
       "    <tr style=\"text-align: right;\">\n",
       "      <th></th>\n",
       "      <th>crim</th>\n",
       "      <th>zn</th>\n",
       "      <th>indus</th>\n",
       "      <th>chas</th>\n",
       "      <th>nox</th>\n",
       "      <th>rm</th>\n",
       "      <th>age</th>\n",
       "      <th>dis</th>\n",
       "      <th>rad</th>\n",
       "      <th>tax</th>\n",
       "      <th>ptratio</th>\n",
       "      <th>black</th>\n",
       "      <th>lstat</th>\n",
       "      <th>medv</th>\n",
       "    </tr>\n",
       "  </thead>\n",
       "  <tbody>\n",
       "    <tr>\n",
       "      <th>1</th>\n",
       "      <td>0.00632</td>\n",
       "      <td>18.0</td>\n",
       "      <td>2.31</td>\n",
       "      <td>0</td>\n",
       "      <td>0.538</td>\n",
       "      <td>6.575</td>\n",
       "      <td>65.2</td>\n",
       "      <td>4.0900</td>\n",
       "      <td>1</td>\n",
       "      <td>296</td>\n",
       "      <td>15.3</td>\n",
       "      <td>396.90</td>\n",
       "      <td>4.98</td>\n",
       "      <td>24.0</td>\n",
       "    </tr>\n",
       "    <tr>\n",
       "      <th>2</th>\n",
       "      <td>0.02731</td>\n",
       "      <td>0.0</td>\n",
       "      <td>7.07</td>\n",
       "      <td>0</td>\n",
       "      <td>0.469</td>\n",
       "      <td>6.421</td>\n",
       "      <td>78.9</td>\n",
       "      <td>4.9671</td>\n",
       "      <td>2</td>\n",
       "      <td>242</td>\n",
       "      <td>17.8</td>\n",
       "      <td>396.90</td>\n",
       "      <td>9.14</td>\n",
       "      <td>21.6</td>\n",
       "    </tr>\n",
       "    <tr>\n",
       "      <th>3</th>\n",
       "      <td>0.02729</td>\n",
       "      <td>0.0</td>\n",
       "      <td>7.07</td>\n",
       "      <td>0</td>\n",
       "      <td>0.469</td>\n",
       "      <td>7.185</td>\n",
       "      <td>61.1</td>\n",
       "      <td>4.9671</td>\n",
       "      <td>2</td>\n",
       "      <td>242</td>\n",
       "      <td>17.8</td>\n",
       "      <td>392.83</td>\n",
       "      <td>4.03</td>\n",
       "      <td>34.7</td>\n",
       "    </tr>\n",
       "    <tr>\n",
       "      <th>4</th>\n",
       "      <td>0.03237</td>\n",
       "      <td>0.0</td>\n",
       "      <td>2.18</td>\n",
       "      <td>0</td>\n",
       "      <td>0.458</td>\n",
       "      <td>6.998</td>\n",
       "      <td>45.8</td>\n",
       "      <td>6.0622</td>\n",
       "      <td>3</td>\n",
       "      <td>222</td>\n",
       "      <td>18.7</td>\n",
       "      <td>394.63</td>\n",
       "      <td>2.94</td>\n",
       "      <td>33.4</td>\n",
       "    </tr>\n",
       "    <tr>\n",
       "      <th>5</th>\n",
       "      <td>0.06905</td>\n",
       "      <td>0.0</td>\n",
       "      <td>2.18</td>\n",
       "      <td>0</td>\n",
       "      <td>0.458</td>\n",
       "      <td>7.147</td>\n",
       "      <td>54.2</td>\n",
       "      <td>6.0622</td>\n",
       "      <td>3</td>\n",
       "      <td>222</td>\n",
       "      <td>18.7</td>\n",
       "      <td>396.90</td>\n",
       "      <td>5.33</td>\n",
       "      <td>36.2</td>\n",
       "    </tr>\n",
       "  </tbody>\n",
       "</table>\n",
       "</div>"
      ],
      "text/plain": [
       "      crim    zn  indus  chas    nox     rm   age     dis  rad  tax  ptratio  \\\n",
       "1  0.00632  18.0   2.31     0  0.538  6.575  65.2  4.0900    1  296     15.3   \n",
       "2  0.02731   0.0   7.07     0  0.469  6.421  78.9  4.9671    2  242     17.8   \n",
       "3  0.02729   0.0   7.07     0  0.469  7.185  61.1  4.9671    2  242     17.8   \n",
       "4  0.03237   0.0   2.18     0  0.458  6.998  45.8  6.0622    3  222     18.7   \n",
       "5  0.06905   0.0   2.18     0  0.458  7.147  54.2  6.0622    3  222     18.7   \n",
       "\n",
       "    black  lstat  medv  \n",
       "1  396.90   4.98  24.0  \n",
       "2  396.90   9.14  21.6  \n",
       "3  392.83   4.03  34.7  \n",
       "4  394.63   2.94  33.4  \n",
       "5  396.90   5.33  36.2  "
      ]
     },
     "execution_count": 11,
     "metadata": {},
     "output_type": "execute_result"
    }
   ],
   "source": [
    "boston.head()"
   ]
  },
  {
   "cell_type": "code",
   "execution_count": 17,
   "metadata": {
    "collapsed": false
   },
   "outputs": [],
   "source": [
    "# Lets define the predictors and the response. Here we will try to predict \n",
    "# the medv response variable from all the other variable in the dataframe\n",
    "predictors = boston.columns.tolist()\n",
    "predictors.remove('medv')\n",
    "X = boston[predictors].values\n",
    "y = boston['medv'].values\n",
    "# notice here I have not split the dataset. Lets use cross-validation instead since most\n",
    "# of the problems in the applied section have used the validation set approach"
   ]
  },
  {
   "cell_type": "markdown",
   "metadata": {},
   "source": [
    "## Build and Validate a Bagging Model"
   ]
  },
  {
   "cell_type": "code",
   "execution_count": 34,
   "metadata": {
    "collapsed": false
   },
   "outputs": [],
   "source": [
    "# The only parameter to determine for the bagging model is the number of trees. We \n",
    "# determine this using the oob_score_, a measure of the test error rate of the model.\n",
    "score = []\n",
    "for num_trees in range(100,600):\n",
    "    # build and fit our bagger\n",
    "    bagger = RandomForestRegressor(n_estimators=num_trees, oob_score=True, random_state=0)\n",
    "    bagger.fit(X,y)\n",
    "    # append the baggers score\n",
    "    score.append(bagger.oob_score_)"
   ]
  },
  {
   "cell_type": "code",
   "execution_count": 36,
   "metadata": {
    "collapsed": false
   },
   "outputs": [
    {
     "data": {
      "image/png": "[encoded data removed]",
      "text/plain": [
       "<matplotlib.figure.Figure at 0x7f542e17b400>"
      ]
     },
     "metadata": {},
     "output_type": "display_data"
    }
   ],
   "source": [
    "# In sklearn, the oob_score_ is R^2 so we need to convert R^2 to MSE to compatible with\n",
    "# the ISLR book. Recall that R^2 = 1-RSS/TSS = 1-(RSS/n)/(TSS/n) = 1-MSE/var(y).\n",
    "var_y = np.var(y)\n",
    "bagging_mse = [(1-el)*var_y for el in score]\n",
    "# Plot the MSE\n",
    "fig, ax = plt.subplots(1,1, figsize=(8,6))\n",
    "ax.plot(range(100,600), bagging_mse);\n",
    "ax.set_xlabel('Number of Trees');\n",
    "ax.set_ylabel('OOB Error');"
   ]
  },
  {
   "cell_type": "markdown",
   "metadata": {},
   "source": [
    "So for ~500 trees the Test MSE begins to settle down. Lets build the final model and compute the oob_score_ for a 500 tree Bagging Model."
   ]
  },
  {
   "cell_type": "code",
   "execution_count": 40,
   "metadata": {
    "collapsed": false
   },
   "outputs": [
    {
     "name": "stdout",
     "output_type": "stream",
     "text": [
      "Bagging Model Test MSE =  10.4521078816\n"
     ]
    }
   ],
   "source": [
    "bagger = RandomForestRegressor(n_estimators=500, oob_score=True, \n",
    "                                        random_state=0).fit(X,y)\n",
    "print('Bagging Model Test MSE = ', (1-bagger.oob_score_)*var_y)"
   ]
  },
  {
   "cell_type": "markdown",
   "metadata": {},
   "source": [
    "## Build and Validate a Random Forest Model"
   ]
  },
  {
   "cell_type": "code",
   "execution_count": 42,
   "metadata": {
    "collapsed": false
   },
   "outputs": [
    {
     "name": "stdout",
     "output_type": "stream",
     "text": [
      "Random Forest Model Test MSE =  9.77564640868\n"
     ]
    }
   ],
   "source": [
    "# Build a random forest using 500 trees (determined from the bagging model). We will \n",
    "# use the sqrt sample of the predictors\n",
    "forest = RandomForestRegressor(n_estimators=500, max_features='sqrt', \n",
    "                               oob_score=True).fit(X,y)\n",
    "print('Random Forest Model Test MSE = ', (1-forest.oob_score_)*var_y)"
   ]
  },
  {
   "cell_type": "markdown",
   "metadata": {},
   "source": [
    "So the Random Forest improves slightly, though we would need to do a statistical test to see if the difference is significant."
   ]
  },
  {
   "cell_type": "markdown",
   "metadata": {},
   "source": [
    "## Build and Validate a Boosting Model"
   ]
  },
  {
   "cell_type": "code",
   "execution_count": 45,
   "metadata": {
    "collapsed": false
   },
   "outputs": [],
   "source": [
    "# For boosting models the number of trees, the depth and the learning rate need to be \n",
    "# optimized. Here we will vary just the learning rate and then the number of trees. \n",
    "\n",
    "booster_scores = []\n",
    "learn_rates = np.linspace(0.001,.1, 100)\n",
    "\n",
    "for rate in learn_rates:\n",
    "    # make a boosting model\n",
    "    booster = GradientBoostingRegressor(learning_rate=rate, n_estimators=500, max_depth=3, \n",
    "                                        random_state=0)\n",
    "    # compute the test MSE of the model using cross-validation\n",
    "    score = -np.mean(cross_val_score(booster, X,y, scoring='mean_squared_error', cv=10))\n",
    "    booster_scores.append(score)"
   ]
  },
  {
   "cell_type": "code",
   "execution_count": 46,
   "metadata": {
    "collapsed": false
   },
   "outputs": [
    {
     "data": {
      "image/png": "[encoded data removed]",
      "text/plain": [
       "<matplotlib.figure.Figure at 0x7f542e010d30>"
      ]
     },
     "metadata": {},
     "output_type": "display_data"
    }
   ],
   "source": [
    "fig, ax = plt.subplots(1,1, figsize=(8,6))\n",
    "ax.plot(learn_rates, booster_scores);\n",
    "ax.set_xlabel('Learning Rate');\n",
    "ax.set_ylabel('Test MSE');"
   ]
  },
  {
   "cell_type": "markdown",
   "metadata": {},
   "source": [
    "So the Test MSE looks pretty stable over a range of learning rates. Lets choose a 0.06 rate. Now lets vary the number of trees."
   ]
  },
  {
   "cell_type": "code",
   "execution_count": 54,
   "metadata": {
    "collapsed": false
   },
   "outputs": [],
   "source": [
    "booster_scores = []\n",
    "num_trees = np.linspace(50,1500,30)\n",
    "\n",
    "for num_tree in num_trees:\n",
    "    # make a boosting model\n",
    "    booster = GradientBoostingRegressor(learning_rate=0.06, n_estimators=int(num_tree), \n",
    "                                        max_depth=3, random_state=0)\n",
    "    # compute the test MSE of the model using cross-validation\n",
    "    score = -np.mean(cross_val_score(booster, X,y, scoring='mean_squared_error', cv=10))\n",
    "    booster_scores.append(score)"
   ]
  },
  {
   "cell_type": "code",
   "execution_count": 55,
   "metadata": {
    "collapsed": false,
    "scrolled": true
   },
   "outputs": [
    {
     "data": {
      "image/png": "[encoded data removed]",
      "text/plain": [
       "<matplotlib.figure.Figure at 0x7f542e378ba8>"
      ]
     },
     "metadata": {},
     "output_type": "display_data"
    }
   ],
   "source": [
    "# plot the Test MSE against the number of trees\n",
    "fig, ax = plt.subplots(1,1, figsize=(8,6))\n",
    "ax.plot(num_trees, booster_scores, marker='o', linestyle='--');\n",
    "ax.set_xlabel('Number of Trees');\n",
    "ax.set_ylabel('Test MSE');"
   ]
  },
  {
   "cell_type": "markdown",
   "metadata": {},
   "source": [
    "The Test MSE stabilizes near 1000 trees. Lets now build the final model using a learning rate of 0.06 and 1000 trees and get the Test CV error."
   ]
  },
  {
   "cell_type": "code",
   "execution_count": 60,
   "metadata": {
    "collapsed": false
   },
   "outputs": [
    {
     "name": "stdout",
     "output_type": "stream",
     "text": [
      "Boosting Model Test Error =  8.36696932869\n"
     ]
    }
   ],
   "source": [
    "# Build the boosting model with the optimized parameters determined above.\n",
    "boosting_model = GradientBoostingRegressor(learning_rate=0.06, n_estimators=1000, \n",
    "                                        max_depth=3, random_state=0)\n",
    "\n",
    "# compute the test MSE of the model using cross-validation\n",
    "score = -np.mean(cross_val_score(boosting_model, X,y, scoring='mean_squared_error', \n",
    "                                    cv=len(boston)))\n",
    "    \n",
    "print('Boosting Model Test Error = ', score)"
   ]
  },
  {
   "cell_type": "markdown",
   "metadata": {},
   "source": [
    "Notice in the above I used LOOCV to get the Test Error rate. I did this because we want to compare with the bagging and Random Forest models. In those models we used the OOB score which for large number of trees is equivalent to the LOOCV. So the boosting model slightly outperforms both the Bagging and Random Forest approaches. Now lets take a look at a linear model."
   ]
  },
  {
   "cell_type": "markdown",
   "metadata": {},
   "source": [
    "## Build a Regularized Linear Model"
   ]
  },
  {
   "cell_type": "code",
   "execution_count": 70,
   "metadata": {
    "collapsed": true
   },
   "outputs": [],
   "source": [
    "# Fit a lasso model and use cross-validation to determine the optimal alpha penaliztion\n",
    "Lasso_est = LassoCV(normalize=True, cv=10).fit(X,y)"
   ]
  },
  {
   "cell_type": "code",
   "execution_count": 69,
   "metadata": {
    "collapsed": false
   },
   "outputs": [
    {
     "data": {
      "text/plain": [
       "0.0085812304989614403"
      ]
     },
     "execution_count": 69,
     "metadata": {},
     "output_type": "execute_result"
    }
   ],
   "source": [
    "Lasso_est.alpha_"
   ]
  },
  {
   "cell_type": "code",
   "execution_count": 73,
   "metadata": {
    "collapsed": false
   },
   "outputs": [
    {
     "name": "stdout",
     "output_type": "stream",
     "text": [
      "Lasso Test MSE =  25.226293062\n"
     ]
    }
   ],
   "source": [
    "# Compute the LOOCV error of the Lasso regularized model\n",
    "lasso_est = Lasso(alpha=Lasso_est.alpha_, normalize=True, random_state=0)\n",
    "lasso_mse = -np.mean(cross_val_score(lasso_est, X, y, scoring='mean_squared_error',\n",
    "                                     cv=len(boston)))\n",
    "                     \n",
    "print('Lasso Test MSE = ', lasso_mse)"
   ]
  },
  {
   "cell_type": "markdown",
   "metadata": {},
   "source": [
    "Clearly the Lasso method is being outperformed by the tree methods. Based on previous findings with this dataset this is not too suprising for example we have already observed non-linearities between the predictors and the response. For example the plot below shows a non-linear relationship between the 'lstat' feature and the medv response."
   ]
  },
  {
   "cell_type": "code",
   "execution_count": 74,
   "metadata": {
    "collapsed": false
   },
   "outputs": [
    {
     "data": {
      "image/png": "[encoded data removed]",
      "text/plain": [
       "<matplotlib.figure.Figure at 0x7f542a919d30>"
      ]
     },
     "metadata": {},
     "output_type": "display_data"
    }
   ],
   "source": [
    "plt.scatter(boston.lstat, boston.medv, marker='o');\n",
    "plt.xlabel('lstat');\n",
    "plt.ylabel('medv');"
   ]
  },
  {
   "cell_type": "markdown",
   "metadata": {},
   "source": [
    "Non-Linearities allow for the tree methods to significantly outperform the best multiple linear regression models. "
   ]
  },
  {
   "cell_type": "code",
   "execution_count": null,
   "metadata": {
    "collapsed": true
   },
   "outputs": [],
   "source": []
  }
 ],
 "metadata": {
  "kernelspec": {
   "display_name": "Python 3",
   "language": "python",
   "name": "python3"
  },
  "language_info": {
   "codemirror_mode": {
    "name": "ipython",
    "version": 3
   },
   "file_extension": ".py",
   "mimetype": "text/x-python",
   "name": "python",
   "nbconvert_exporter": "python",
   "pygments_lexer": "ipython3",
   "version": "3.5.2"
  }
 },
 "nbformat": 4,
 "nbformat_minor": 0
}
