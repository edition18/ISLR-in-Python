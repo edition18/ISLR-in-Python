{
 "cells": [
  {
   "cell_type": "markdown",
   "metadata": {},
   "source": [
    "# ISLR - Python Ch8 Applied 10"
   ]
  },
  {
   "cell_type": "markdown",
   "metadata": {},
   "source": [
    "- [Import Hitters Dataset](#Import-Hitters-Dataset)\n",
    "- [Split the data](#Split-the-data)\n",
    "- [Perform Boosting](#Perform-Boosting)\n",
    "- [Compare with Linear Method](#Compare-with-Linear-Method)\n",
    "- [Compare with Regularized Linear Method](#Compare-with-Regularized-Linear-Method)\n",
    "- [Variable Importance](#Variable-Importance)\n",
    "- [Bagging Approach](#Bagging-Approach)"
   ]
  },
  {
   "cell_type": "code",
   "execution_count": 41,
   "metadata": {
    "collapsed": false
   },
   "outputs": [],
   "source": [
    "import numpy as np\n",
    "import pandas as pd\n",
    "import matplotlib.pyplot as plt\n",
    "\n",
    "from sklearn.cross_validation import train_test_split\n",
    "from sklearn.ensemble import GradientBoostingRegressor\n",
    "from sklearn.linear_model import LinearRegression\n",
    "from sklearn.linear_model import Lasso, LassoCV\n",
    "from sklearn.ensemble import BaggingRegressor\n",
    "\n",
    "%matplotlib inline\n",
    "plt.style.use('ggplot')"
   ]
  },
  {
   "cell_type": "markdown",
   "metadata": {},
   "source": [
    "## Import Hitters Dataset"
   ]
  },
  {
   "cell_type": "code",
   "execution_count": 2,
   "metadata": {
    "collapsed": true
   },
   "outputs": [],
   "source": [
    "df = pd.read_csv('../../../data/Hitters.csv', index_col=0, )"
   ]
  },
  {
   "cell_type": "code",
   "execution_count": 3,
   "metadata": {
    "collapsed": false
   },
   "outputs": [],
   "source": [
    "# drop rows with NaNs\n",
    "df = df.dropna()\n",
    "# Log-transform the salaries\n",
    "df.Salary = np.log(df.Salary)"
   ]
  },
  {
   "cell_type": "code",
   "execution_count": 4,
   "metadata": {
    "collapsed": true
   },
   "outputs": [],
   "source": [
    "# create dummy variables for the qualitative predictors\n",
    "df = pd.get_dummies(data=df, columns=['League', 'Division', 'NewLeague'])"
   ]
  },
  {
   "cell_type": "code",
   "execution_count": 5,
   "metadata": {
    "collapsed": false
   },
   "outputs": [
    {
     "data": {
      "text/html": [
       "<div>\n",
       "<table border=\"1\" class=\"dataframe\">\n",
       "  <thead>\n",
       "    <tr style=\"text-align: right;\">\n",
       "      <th></th>\n",
       "      <th>AtBat</th>\n",
       "      <th>Hits</th>\n",
       "      <th>HmRun</th>\n",
       "      <th>Runs</th>\n",
       "      <th>RBI</th>\n",
       "      <th>Walks</th>\n",
       "      <th>Years</th>\n",
       "      <th>CAtBat</th>\n",
       "      <th>CHits</th>\n",
       "      <th>CHmRun</th>\n",
       "      <th>...</th>\n",
       "      <th>PutOuts</th>\n",
       "      <th>Assists</th>\n",
       "      <th>Errors</th>\n",
       "      <th>Salary</th>\n",
       "      <th>League_A</th>\n",
       "      <th>League_N</th>\n",
       "      <th>Division_E</th>\n",
       "      <th>Division_W</th>\n",
       "      <th>NewLeague_A</th>\n",
       "      <th>NewLeague_N</th>\n",
       "    </tr>\n",
       "  </thead>\n",
       "  <tbody>\n",
       "    <tr>\n",
       "      <th>-Alan Ashby</th>\n",
       "      <td>315</td>\n",
       "      <td>81</td>\n",
       "      <td>7</td>\n",
       "      <td>24</td>\n",
       "      <td>38</td>\n",
       "      <td>39</td>\n",
       "      <td>14</td>\n",
       "      <td>3449</td>\n",
       "      <td>835</td>\n",
       "      <td>69</td>\n",
       "      <td>...</td>\n",
       "      <td>632</td>\n",
       "      <td>43</td>\n",
       "      <td>10</td>\n",
       "      <td>6.163315</td>\n",
       "      <td>0.0</td>\n",
       "      <td>1.0</td>\n",
       "      <td>0.0</td>\n",
       "      <td>1.0</td>\n",
       "      <td>0.0</td>\n",
       "      <td>1.0</td>\n",
       "    </tr>\n",
       "    <tr>\n",
       "      <th>-Alvin Davis</th>\n",
       "      <td>479</td>\n",
       "      <td>130</td>\n",
       "      <td>18</td>\n",
       "      <td>66</td>\n",
       "      <td>72</td>\n",
       "      <td>76</td>\n",
       "      <td>3</td>\n",
       "      <td>1624</td>\n",
       "      <td>457</td>\n",
       "      <td>63</td>\n",
       "      <td>...</td>\n",
       "      <td>880</td>\n",
       "      <td>82</td>\n",
       "      <td>14</td>\n",
       "      <td>6.173786</td>\n",
       "      <td>1.0</td>\n",
       "      <td>0.0</td>\n",
       "      <td>0.0</td>\n",
       "      <td>1.0</td>\n",
       "      <td>1.0</td>\n",
       "      <td>0.0</td>\n",
       "    </tr>\n",
       "    <tr>\n",
       "      <th>-Andre Dawson</th>\n",
       "      <td>496</td>\n",
       "      <td>141</td>\n",
       "      <td>20</td>\n",
       "      <td>65</td>\n",
       "      <td>78</td>\n",
       "      <td>37</td>\n",
       "      <td>11</td>\n",
       "      <td>5628</td>\n",
       "      <td>1575</td>\n",
       "      <td>225</td>\n",
       "      <td>...</td>\n",
       "      <td>200</td>\n",
       "      <td>11</td>\n",
       "      <td>3</td>\n",
       "      <td>6.214608</td>\n",
       "      <td>0.0</td>\n",
       "      <td>1.0</td>\n",
       "      <td>1.0</td>\n",
       "      <td>0.0</td>\n",
       "      <td>0.0</td>\n",
       "      <td>1.0</td>\n",
       "    </tr>\n",
       "    <tr>\n",
       "      <th>-Andres Galarraga</th>\n",
       "      <td>321</td>\n",
       "      <td>87</td>\n",
       "      <td>10</td>\n",
       "      <td>39</td>\n",
       "      <td>42</td>\n",
       "      <td>30</td>\n",
       "      <td>2</td>\n",
       "      <td>396</td>\n",
       "      <td>101</td>\n",
       "      <td>12</td>\n",
       "      <td>...</td>\n",
       "      <td>805</td>\n",
       "      <td>40</td>\n",
       "      <td>4</td>\n",
       "      <td>4.516339</td>\n",
       "      <td>0.0</td>\n",
       "      <td>1.0</td>\n",
       "      <td>1.0</td>\n",
       "      <td>0.0</td>\n",
       "      <td>0.0</td>\n",
       "      <td>1.0</td>\n",
       "    </tr>\n",
       "    <tr>\n",
       "      <th>-Alfredo Griffin</th>\n",
       "      <td>594</td>\n",
       "      <td>169</td>\n",
       "      <td>4</td>\n",
       "      <td>74</td>\n",
       "      <td>51</td>\n",
       "      <td>35</td>\n",
       "      <td>11</td>\n",
       "      <td>4408</td>\n",
       "      <td>1133</td>\n",
       "      <td>19</td>\n",
       "      <td>...</td>\n",
       "      <td>282</td>\n",
       "      <td>421</td>\n",
       "      <td>25</td>\n",
       "      <td>6.620073</td>\n",
       "      <td>1.0</td>\n",
       "      <td>0.0</td>\n",
       "      <td>0.0</td>\n",
       "      <td>1.0</td>\n",
       "      <td>1.0</td>\n",
       "      <td>0.0</td>\n",
       "    </tr>\n",
       "  </tbody>\n",
       "</table>\n",
       "<p>5 rows × 23 columns</p>\n",
       "</div>"
      ],
      "text/plain": [
       "                   AtBat  Hits  HmRun  Runs  RBI  Walks  Years  CAtBat  CHits  \\\n",
       "-Alan Ashby          315    81      7    24   38     39     14    3449    835   \n",
       "-Alvin Davis         479   130     18    66   72     76      3    1624    457   \n",
       "-Andre Dawson        496   141     20    65   78     37     11    5628   1575   \n",
       "-Andres Galarraga    321    87     10    39   42     30      2     396    101   \n",
       "-Alfredo Griffin     594   169      4    74   51     35     11    4408   1133   \n",
       "\n",
       "                   CHmRun     ...       PutOuts  Assists  Errors    Salary  \\\n",
       "-Alan Ashby            69     ...           632       43      10  6.163315   \n",
       "-Alvin Davis           63     ...           880       82      14  6.173786   \n",
       "-Andre Dawson         225     ...           200       11       3  6.214608   \n",
       "-Andres Galarraga      12     ...           805       40       4  4.516339   \n",
       "-Alfredo Griffin       19     ...           282      421      25  6.620073   \n",
       "\n",
       "                   League_A  League_N  Division_E  Division_W  NewLeague_A  \\\n",
       "-Alan Ashby             0.0       1.0         0.0         1.0          0.0   \n",
       "-Alvin Davis            1.0       0.0         0.0         1.0          1.0   \n",
       "-Andre Dawson           0.0       1.0         1.0         0.0          0.0   \n",
       "-Andres Galarraga       0.0       1.0         1.0         0.0          0.0   \n",
       "-Alfredo Griffin        1.0       0.0         0.0         1.0          1.0   \n",
       "\n",
       "                   NewLeague_N  \n",
       "-Alan Ashby                1.0  \n",
       "-Alvin Davis               0.0  \n",
       "-Andre Dawson              1.0  \n",
       "-Andres Galarraga          1.0  \n",
       "-Alfredo Griffin           0.0  \n",
       "\n",
       "[5 rows x 23 columns]"
      ]
     },
     "execution_count": 5,
     "metadata": {},
     "output_type": "execute_result"
    }
   ],
   "source": [
    "df.head()"
   ]
  },
  {
   "cell_type": "markdown",
   "metadata": {},
   "source": [
    "## Split the data"
   ]
  },
  {
   "cell_type": "code",
   "execution_count": 6,
   "metadata": {
    "collapsed": false
   },
   "outputs": [],
   "source": [
    "# get predictors and responses\n",
    "predictors = df.columns.tolist()\n",
    "predictors.remove('Salary')\n",
    "X = df[predictors].values\n",
    "y = df['Salary']\n",
    "\n",
    "# split Data\n",
    "X_train, X_test, y_train, y_test = train_test_split(X,y,train_size=200, random_state=0)"
   ]
  },
  {
   "cell_type": "markdown",
   "metadata": {},
   "source": [
    "## Perform Boosting"
   ]
  },
  {
   "cell_type": "code",
   "execution_count": 8,
   "metadata": {
    "collapsed": false
   },
   "outputs": [
    {
     "data": {
      "image/png": "[encoded data removed]",
      "text/plain": [
       "<matplotlib.figure.Figure at 0x7fbc343ecba8>"
      ]
     },
     "metadata": {},
     "output_type": "display_data"
    }
   ],
   "source": [
    "# Create a boosting object using 'least squares' obj func, with a variable learning rate and 1000 iterations\n",
    "# each with depth of 1\n",
    "train_mse = []\n",
    "test_mse = []\n",
    "rates = np.linspace(.0001,.1, 20)\n",
    "\n",
    "for rate in rates:\n",
    "    booster = GradientBoostingRegressor(loss='ls', learning_rate=rate, n_estimators=1000,\n",
    "                                        max_depth=1, random_state=0)\n",
    "    # fit the the booster to our data\n",
    "    boost_est = booster.fit(X_train, y_train)\n",
    "    \n",
    "    # get the boost_est training error rate\n",
    "    train_mse.append(np.mean((y_train-boost_est.predict(X_train))**2))\n",
    "    \n",
    "    # get the boost_est test error rate\n",
    "    test_mse.append(np.mean((y_test-boost_est.predict(X_test))**2))\n",
    "    \n",
    "fig, (ax1, ax2) = plt.subplots(1,2, figsize=(14,4))\n",
    "# Training MSE\n",
    "ax1.plot(rates, train_mse, marker='o', color='r', linestyle='--');\n",
    "ax1.set_xlabel('Shrinkage Parameter');\n",
    "ax1.set_ylabel('Train MSE');\n",
    "# Testing MSE\n",
    "ax2.plot(rates, test_mse, marker='o', color='b', linestyle='--');\n",
    "ax2.set_xlabel('Shrinkage Parameter');\n",
    "ax2.set_ylabel('Test MSE');"
   ]
  },
  {
   "cell_type": "markdown",
   "metadata": {},
   "source": [
    "## Compare with Linear Method"
   ]
  },
  {
   "cell_type": "code",
   "execution_count": 23,
   "metadata": {
    "collapsed": false
   },
   "outputs": [
    {
     "name": "stdout",
     "output_type": "stream",
     "text": [
      "Linear Model has a Test MSE =  0.455494499861\n"
     ]
    }
   ],
   "source": [
    "# Fit a linear model to predict the log(salary)\n",
    "lin_est = LinearRegression(normalize=True).fit(X_train,y_train)\n",
    "\n",
    "# get the test MSE\n",
    "lin_est_mse = np.mean((lin_est.predict(X_test)-y_test)**2)\n",
    "\n",
    "print(\"Linear Model has a Test MSE = \", lin_est_mse)"
   ]
  },
  {
   "cell_type": "markdown",
   "metadata": {},
   "source": [
    "## Compare with Regularized Linear Model"
   ]
  },
  {
   "cell_type": "code",
   "execution_count": 15,
   "metadata": {
    "collapsed": false
   },
   "outputs": [
    {
     "data": {
      "text/plain": [
       "0.0010722672220103231"
      ]
     },
     "execution_count": 15,
     "metadata": {},
     "output_type": "execute_result"
    }
   ],
   "source": [
    "# create a grid of alphas -- the penalization in the lasso model\n",
    "grid = 10**np.linspace(-4,2,100)\n",
    "\n",
    "# compute the optimal penalization factor using cross-validation\n",
    "np.random.seed(0)\n",
    "lasso_cv = LassoCV(alphas=grid, normalize=True, max_iter=10000, cv=10)\n",
    "lasso_cv.fit(X,y)\n",
    "lasso_cv.alpha_"
   ]
  },
  {
   "cell_type": "code",
   "execution_count": 24,
   "metadata": {
    "collapsed": false
   },
   "outputs": [
    {
     "name": "stdout",
     "output_type": "stream",
     "text": [
      "Lasso Regularized Model Test MSE =  0.409047112346\n"
     ]
    }
   ],
   "source": [
    "# Construct a Lasso Model on the training data using the optimal alpha and get the Test\n",
    "# MSE\n",
    "lasso = Lasso(alpha=lasso_cv.alpha_, normalize=True, max_iter=10000)\n",
    "lasso.fit(X_train, y_train)\n",
    "        \n",
    "mse = np.mean((lasso.predict(X_test)-y_test)**2)\n",
    "print(\"Lasso Regularized Model Test MSE = \", mse)"
   ]
  },
  {
   "cell_type": "markdown",
   "metadata": {},
   "source": [
    "So the tree method outperfoms the linear and regularized linear model significantly. As stated in the chapter if the data has a linear structure then the linear methods can take advantage of the structure and outperfom the tree methods. Below is a plot of the residuals vs the fitted values. There is an asymmetry in the residual cloud indicating a nonlinearity unaccounted for in the regularized linear model. Thus we might expect the tree method to outperfom the linear methods."
   ]
  },
  {
   "cell_type": "code",
   "execution_count": 40,
   "metadata": {
    "collapsed": false
   },
   "outputs": [
    {
     "data": {
      "image/png": "[encoded data removed]",
      "text/plain": [
       "<matplotlib.figure.Figure at 0x7fbc3066ac18>"
      ]
     },
     "metadata": {},
     "output_type": "display_data"
    }
   ],
   "source": [
    "fig,ax = plt.subplots(1,1,figsize=(8,6));\n",
    "ax.scatter(lasso.predict(X),y-lasso.predict(X), edgecolors='b', facecolors='None');\n",
    "ax.set_xlabel('Fitted Values');\n",
    "ax.set_ylabel('Residuals');"
   ]
  },
  {
   "cell_type": "markdown",
   "metadata": {},
   "source": [
    "## Variable Importance"
   ]
  },
  {
   "cell_type": "code",
   "execution_count": 38,
   "metadata": {
    "collapsed": false
   },
   "outputs": [
    {
     "data": {
      "text/html": [
       "<div>\n",
       "<table border=\"1\" class=\"dataframe\">\n",
       "  <thead>\n",
       "    <tr style=\"text-align: right;\">\n",
       "      <th></th>\n",
       "      <th>Importance</th>\n",
       "    </tr>\n",
       "  </thead>\n",
       "  <tbody>\n",
       "    <tr>\n",
       "      <th>CHmRun</th>\n",
       "      <td>0.132</td>\n",
       "    </tr>\n",
       "    <tr>\n",
       "      <th>Years</th>\n",
       "      <td>0.130</td>\n",
       "    </tr>\n",
       "    <tr>\n",
       "      <th>PutOuts</th>\n",
       "      <td>0.114</td>\n",
       "    </tr>\n",
       "    <tr>\n",
       "      <th>Hits</th>\n",
       "      <td>0.095</td>\n",
       "    </tr>\n",
       "    <tr>\n",
       "      <th>CHits</th>\n",
       "      <td>0.088</td>\n",
       "    </tr>\n",
       "    <tr>\n",
       "      <th>CRBI</th>\n",
       "      <td>0.078</td>\n",
       "    </tr>\n",
       "    <tr>\n",
       "      <th>AtBat</th>\n",
       "      <td>0.062</td>\n",
       "    </tr>\n",
       "    <tr>\n",
       "      <th>CRuns</th>\n",
       "      <td>0.052</td>\n",
       "    </tr>\n",
       "    <tr>\n",
       "      <th>CAtBat</th>\n",
       "      <td>0.047</td>\n",
       "    </tr>\n",
       "    <tr>\n",
       "      <th>Errors</th>\n",
       "      <td>0.043</td>\n",
       "    </tr>\n",
       "    <tr>\n",
       "      <th>Walks</th>\n",
       "      <td>0.034</td>\n",
       "    </tr>\n",
       "    <tr>\n",
       "      <th>RBI</th>\n",
       "      <td>0.032</td>\n",
       "    </tr>\n",
       "    <tr>\n",
       "      <th>HmRun</th>\n",
       "      <td>0.032</td>\n",
       "    </tr>\n",
       "    <tr>\n",
       "      <th>Runs</th>\n",
       "      <td>0.017</td>\n",
       "    </tr>\n",
       "    <tr>\n",
       "      <th>CWalks</th>\n",
       "      <td>0.012</td>\n",
       "    </tr>\n",
       "    <tr>\n",
       "      <th>NewLeague_N</th>\n",
       "      <td>0.012</td>\n",
       "    </tr>\n",
       "    <tr>\n",
       "      <th>Assists</th>\n",
       "      <td>0.010</td>\n",
       "    </tr>\n",
       "    <tr>\n",
       "      <th>NewLeague_A</th>\n",
       "      <td>0.010</td>\n",
       "    </tr>\n",
       "    <tr>\n",
       "      <th>League_A</th>\n",
       "      <td>0.000</td>\n",
       "    </tr>\n",
       "    <tr>\n",
       "      <th>League_N</th>\n",
       "      <td>0.000</td>\n",
       "    </tr>\n",
       "    <tr>\n",
       "      <th>Division_E</th>\n",
       "      <td>0.000</td>\n",
       "    </tr>\n",
       "    <tr>\n",
       "      <th>Division_W</th>\n",
       "      <td>0.000</td>\n",
       "    </tr>\n",
       "  </tbody>\n",
       "</table>\n",
       "</div>"
      ],
      "text/plain": [
       "             Importance\n",
       "CHmRun            0.132\n",
       "Years             0.130\n",
       "PutOuts           0.114\n",
       "Hits              0.095\n",
       "CHits             0.088\n",
       "CRBI              0.078\n",
       "AtBat             0.062\n",
       "CRuns             0.052\n",
       "CAtBat            0.047\n",
       "Errors            0.043\n",
       "Walks             0.034\n",
       "RBI               0.032\n",
       "HmRun             0.032\n",
       "Runs              0.017\n",
       "CWalks            0.012\n",
       "NewLeague_N       0.012\n",
       "Assists           0.010\n",
       "NewLeague_A       0.010\n",
       "League_A          0.000\n",
       "League_N          0.000\n",
       "Division_E        0.000\n",
       "Division_W        0.000"
      ]
     },
     "execution_count": 38,
     "metadata": {},
     "output_type": "execute_result"
    }
   ],
   "source": [
    "# In the boosted model we can list the importance of the features\n",
    "feature_importances = boost_est.feature_importances_\n",
    "pd.DataFrame(data=feature_importances, index=predictors, columns = \n",
    "             ['Importance']).sort_values(by=['Importance'], ascending=False)"
   ]
  },
  {
   "cell_type": "markdown",
   "metadata": {},
   "source": [
    "## Bagging Approach"
   ]
  },
  {
   "cell_type": "code",
   "execution_count": 42,
   "metadata": {
    "collapsed": false
   },
   "outputs": [
    {
     "name": "stdout",
     "output_type": "stream",
     "text": [
      "Bagging Test MSE =  0.144182731699\n"
     ]
    }
   ],
   "source": [
    "# construct a bag estimator\n",
    "bag_est = BaggingRegressor(random_state=0, n_estimators=500).fit(X_train,y_train)\n",
    "# compute the bagging MSE\n",
    "bag_mse = np.mean((bag_est.predict(X_test)-y_test)**2)\n",
    "print(\"Bagging Test MSE = \", bag_mse)"
   ]
  },
  {
   "cell_type": "markdown",
   "metadata": {},
   "source": [
    "so the bagging approach is comparable with the boosting approach MSE."
   ]
  },
  {
   "cell_type": "code",
   "execution_count": null,
   "metadata": {
    "collapsed": true
   },
   "outputs": [],
   "source": []
  }
 ],
 "metadata": {
  "kernelspec": {
   "display_name": "Python 3",
   "language": "python",
   "name": "python3"
  },
  "language_info": {
   "codemirror_mode": {
    "name": "ipython",
    "version": 3
   },
   "file_extension": ".py",
   "mimetype": "text/x-python",
   "name": "python",
   "nbconvert_exporter": "python",
   "pygments_lexer": "ipython3",
   "version": "3.5.2"
  }
 },
 "nbformat": 4,
 "nbformat_minor": 0
}
