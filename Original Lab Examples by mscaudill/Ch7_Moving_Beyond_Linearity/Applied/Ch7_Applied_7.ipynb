{
 "cells": [
  {
   "cell_type": "markdown",
   "metadata": {},
   "source": [
    "# ISLR-Python: Ch7 Applied 7"
   ]
  },
  {
   "cell_type": "markdown",
   "metadata": {},
   "source": [
    "- [Generate Data](#Generate-Data)\n",
    "- [Single Backfit](#Single-Backfit)\n",
    "- [Full Backfitting](#Full-Backfitting)"
   ]
  },
  {
   "cell_type": "code",
   "execution_count": 70,
   "metadata": {
    "collapsed": true
   },
   "outputs": [],
   "source": [
    "import numpy as np\n",
    "import pandas as pd\n",
    "\n",
    "from sklearn.datasets import make_regression\n",
    "from sklearn.linear_model import LinearRegression\n",
    "from matplotlib import pyplot as plt\n",
    "\n",
    "plt.style.use('ggplot')\n",
    "%matplotlib inline"
   ]
  },
  {
   "cell_type": "markdown",
   "metadata": {},
   "source": [
    "## Generate Data"
   ]
  },
  {
   "cell_type": "code",
   "execution_count": 6,
   "metadata": {
    "collapsed": false
   },
   "outputs": [],
   "source": [
    "#use make regression to generate a linear regression dataset with 100 informative predictors and 1000 samples\n",
    "X, y, coef_ = make_regression(n_samples=1000, n_features=100, coef=True, n_informative=100)"
   ]
  },
  {
   "cell_type": "markdown",
   "metadata": {},
   "source": [
    "## Single Backfit"
   ]
  },
  {
   "cell_type": "markdown",
   "metadata": {},
   "source": [
    "Lets start by making a sinle backfit estimate over all 100 predictors. We do this by calculating the partial residue Y-X'*beta' where X' and beta' are the original X and beta BUT missing the column for the predictor. We then perform simple linear regression using the held out predictor onto the partial residue. We repeat this process for all predictors to generate a first-pass array of all coeff estimates. "
   ]
  },
  {
   "cell_type": "code",
   "execution_count": 39,
   "metadata": {
    "collapsed": false
   },
   "outputs": [],
   "source": [
    "# try a single backfit\n",
    "betas = np.zeros([100,1])\n",
    "\n",
    "for predictor in np.arange(0,len(coef_)):\n",
    "    # get the partial residue\n",
    "    partial = y.reshape(-1,1) - np.dot(np.delete(X,predictor,axis=1), np.delete(betas,predictor,axis=0))\n",
    "    # get the estimate of the predictors coeff.\n",
    "    betas[predictor] = LinearRegression().fit(X[:,predictor,np.newaxis], partial).coef_[0]\n",
    "    \n",
    "#print(betas)    "
   ]
  },
  {
   "cell_type": "markdown",
   "metadata": {},
   "source": [
    "## Full Backfitting"
   ]
  },
  {
   "cell_type": "markdown",
   "metadata": {},
   "source": [
    "Now that we can see how to do a backfit over 100 predictors for a single iteration lets try it out for 1000 iterations and keep track of the maximum difference between the backfitting coeffecient estimates and the OLS coeffecient estimates."
   ]
  },
  {
   "cell_type": "code",
   "execution_count": 107,
   "metadata": {
    "collapsed": false
   },
   "outputs": [],
   "source": [
    "# Fit the data using multiple linear regression-- will serve as baseline\n",
    "betas_mlr = LinearRegression(fit_intercept=False).fit(X,y).coef_.reshape(-1,1)\n",
    "\n",
    "betas = np.zeros([100,1])\n",
    "diffs = np.empty([100,1])\n",
    "\n",
    "for iteration in np.arange(1,100):\n",
    "    for predictor in np.arange(0,len(coef_)):\n",
    "        # get the partial residue for this predictor\n",
    "        partial = y.reshape(-1,1) - np.dot(np.delete(X,predictor,axis=1), np.delete(betas,predictor,axis=0))\n",
    "        # get the estimate of the predictors coeff.\n",
    "        betas[predictor] = LinearRegression().fit(X[:,predictor,np.newaxis], partial).coef_[0] \n",
    "        \n",
    "    # for each iteration compute the differences in the backfit and multiple linear regression betas\n",
    "    diffs[iteration] = np.max(betas-betas_mlr)"
   ]
  },
  {
   "cell_type": "code",
   "execution_count": 109,
   "metadata": {
    "collapsed": false
   },
   "outputs": [
    {
     "data": {
      "image/png": "[encoded data removed]",
      "text/plain": [
       "<matplotlib.figure.Figure at 0x7f36fd04fe80>"
      ]
     },
     "metadata": {},
     "output_type": "display_data"
    }
   ],
   "source": [
    "fig, ax = plt.subplots(1,1, figsize=(12,6))\n",
    "ax.plot(range(len(diffs)), diffs, lw=2, label='Backfit vs. OLS Coeffs')\n",
    "ax.set_xlabel('Iteration Number');\n",
    "ax.set_ylabel(r'$max( \\beta_{backfit} - \\beta_{OLS})$');"
   ]
  },
  {
   "cell_type": "markdown",
   "metadata": {},
   "source": [
    "So within 20 iterations the maximum difference between the Backfitting and OLS coeffecients becomes very small."
   ]
  },
  {
   "cell_type": "code",
   "execution_count": null,
   "metadata": {
    "collapsed": true
   },
   "outputs": [],
   "source": []
  }
 ],
 "metadata": {
  "kernelspec": {
   "display_name": "Python 3",
   "language": "python",
   "name": "python3"
  },
  "language_info": {
   "codemirror_mode": {
    "name": "ipython",
    "version": 3
   },
   "file_extension": ".py",
   "mimetype": "text/x-python",
   "name": "python",
   "nbconvert_exporter": "python",
   "pygments_lexer": "ipython3",
   "version": "3.5.2"
  }
 },
 "nbformat": 4,
 "nbformat_minor": 0
}
