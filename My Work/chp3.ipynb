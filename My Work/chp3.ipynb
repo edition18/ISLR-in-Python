{
 "cells": [
  {
   "cell_type": "code",
   "execution_count": 18,
   "metadata": {},
   "outputs": [],
   "source": [
    "# remember to run in anaconda\n",
    "# https://code.visualstudio.com/docs/datascience/data-science-tutorial\n",
    "# conda config --append channels conda-forge\n",
    "# conda create -n myenv python=3.10 pandas jupyter seaborn scikit-learn keras tensorflow numpy statsmodels\n",
    "# conda activate myenv\n",
    "\n",
    "# %load ../standard_import.txt\n",
    "import pandas as pd\n",
    "import numpy as np\n",
    "import matplotlib.pyplot as plt\n",
    "from mpl_toolkits.mplot3d import axes3d\n",
    "import seaborn as sns\n",
    "\n",
    "from sklearn.preprocessing import scale\n",
    "import sklearn.linear_model as skl_lm\n",
    "from sklearn.metrics import mean_squared_error, r2_score\n",
    "import statsmodels.api as sm\n",
    "import statsmodels.formula.api as smf\n",
    "\n",
    "sns.set_style(\"white\")"
   ]
  },
  {
   "cell_type": "code",
   "execution_count": 19,
   "metadata": {},
   "outputs": [
    {
     "name": "stdout",
     "output_type": "stream",
     "text": [
      "<class 'pandas.core.frame.DataFrame'>\n",
      "RangeIndex: 200 entries, 0 to 199\n",
      "Data columns (total 4 columns):\n",
      " #   Column     Non-Null Count  Dtype  \n",
      "---  ------     --------------  -----  \n",
      " 0   TV         200 non-null    float64\n",
      " 1   Radio      200 non-null    float64\n",
      " 2   Newspaper  200 non-null    float64\n",
      " 3   Sales      200 non-null    float64\n",
      "dtypes: float64(4)\n",
      "memory usage: 6.4 KB\n"
     ]
    }
   ],
   "source": [
    "advertising = pd.read_csv('../Data/Advertising.csv', usecols=[1,2,3,4])\n",
    "advertising.info()"
   ]
  },
  {
   "attachments": {},
   "cell_type": "markdown",
   "metadata": {},
   "source": [
    "notice `usecols` that selects a `list` with `range` from (1,12)\n",
    "\n",
    "Notice the use of `map` below\n",
    "1. create a column `student2`\n",
    "2. iterate only the `Student` column, where it shows `No` enter 0 in the respective column\n",
    "3. else, enter 1 (i.e. corresponding to `Yes`)"
   ]
  },
  {
   "cell_type": "code",
   "execution_count": 20,
   "metadata": {},
   "outputs": [
    {
     "name": "stdout",
     "output_type": "stream",
     "text": [
      "    Income  Limit  Rating  Cards  Age  Education  Gender Student Married  \\\n",
      "0   14.891   3606     283      2   34         11    Male      No     Yes   \n",
      "1  106.025   6645     483      3   82         15  Female     Yes     Yes   \n",
      "2  104.593   7075     514      4   71         11    Male      No      No   \n",
      "\n",
      "   Ethnicity  Balance  Student2  \n",
      "0  Caucasian      333         0  \n",
      "1      Asian      903         1  \n",
      "2      Asian      580         0  \n"
     ]
    }
   ],
   "source": [
    "credit = pd.read_csv('../Data/Credit.csv', usecols=list(range(1,12)))\n",
    "credit['Student2'] = credit.Student.map({'No':0, 'Yes':1})\n",
    "# need to print to show the head()\n",
    "print(credit.head(3))"
   ]
  },
  {
   "attachments": {},
   "cell_type": "markdown",
   "metadata": {},
   "source": [
    "### Figure 3.1 - Least squares fit"
   ]
  },
  {
   "cell_type": "code",
   "execution_count": 21,
   "metadata": {},
   "outputs": [
    {
     "data": {
      "text/plain": [
       "(0.0, 28.27)"
      ]
     },
     "execution_count": 21,
     "metadata": {},
     "output_type": "execute_result"
    },
    {
     "data": {
      "image/png": "[encoded data removed]",
      "text/plain": [
       "<Figure size 640x480 with 1 Axes>"
      ]
     },
     "metadata": {},
     "output_type": "display_data"
    }
   ],
   "source": [
    "sns.regplot(x=advertising.TV, y=advertising.Sales, order=1, ci=None, scatter_kws={'color':'r', 's':9})\n",
    "#setting limit bounds\n",
    "plt.xlim(-10,310) \n",
    "plt.ylim(ymin=0) "
   ]
  },
  {
   "cell_type": "code",
   "execution_count": 22,
   "metadata": {},
   "outputs": [
    {
     "name": "stdout",
     "output_type": "stream",
     "text": [
      "[  83.0575 -102.5425 -129.8425    4.4575   33.7575 -138.3425  -89.5425\n",
      "  -26.8425 -138.4425   52.7575  -80.9425   67.6575 -123.2425  -49.5425\n",
      "   57.0575   48.3575  -79.2425  134.3575  -77.8425    0.2575   71.3575\n",
      "   90.3575 -133.8425   81.2575  -84.7425  115.8575   -4.1425   93.0575\n",
      "  101.7575  -76.4425  145.8575  -34.1425  -49.8425  118.5575  -51.3425\n",
      "  143.6575  119.8575  -72.3425 -103.9425   80.9575   55.4575   29.9575\n",
      "  146.5575   59.8575 -121.9425   28.0575  -57.3425   92.8575   80.1575\n",
      "  -80.1425   52.7575  -46.6425   69.3575   35.5575  115.6575   51.8575\n",
      " -139.7425  -10.8425   63.7575   63.6575  -93.5425  114.2575   92.2575\n",
      "  -44.3425  -15.9425  -78.0425 -115.5425   -7.7425   90.3575   69.7575\n",
      "   52.0575  -37.2425 -120.2425  -17.6425   66.3575 -130.1425 -119.5425\n",
      "  -26.5425 -141.6425  -31.0425  -70.6425   92.7575  -71.7425  -78.6425\n",
      "   66.4575   46.1575  -70.7425  -36.3425  -58.7425  -37.2425  -12.7425\n",
      " -118.4425   70.6575  103.8575  -39.6425   16.2575   50.5575   37.8575\n",
      "  142.6575  -11.8425   75.3575  149.3575  133.1575   40.8575   91.1575\n",
      "   -9.1425 -122.0425  -56.6425 -133.9425  108.3575   78.7575   94.6575\n",
      "   28.6575   62.5575  -68.8425  -71.9425   -7.8425  -70.6425  -21.3425\n",
      " -127.6425   -5.7425 -128.2425   76.9575  -23.9425   82.4575  -59.8425\n",
      " -139.2425  -66.8425   73.2575  -87.4425 -146.3425  118.1575 -138.6425\n",
      "   72.7575 -110.1425  -98.7425 -121.4425  126.6575 -104.0425   37.8575\n",
      "  -73.6425   46.6575   73.4575  -42.4425  -50.8425   -6.7425   93.0575\n",
      "   96.1575 -109.0425 -102.3425  133.6575  -26.0425   50.5575   24.2575\n",
      "   40.7575 -142.9425  -53.1425    2.7575 -135.3425  -15.3425   25.4575\n",
      "  -61.3425   41.3575   16.4575  -29.8425   87.4575 -129.1425   59.7575\n",
      "   68.3575  137.2575  -97.0425   17.4575 -127.4425   21.3575   75.3575\n",
      "  129.8575  101.3575   23.1575  129.6575   18.5575    9.5575   71.4575\n",
      "  -90.8425  140.5575  106.7575   57.9575   -7.5425   44.0575  138.9575\n",
      " -128.3425 -107.5425  -71.5425 -129.8425   19.7575    2.6575 -108.8425\n",
      "  -52.8425   29.9575  136.5575   85.0575]\n",
      "14.0225\n",
      "[0.04753664]\n"
     ]
    }
   ],
   "source": [
    "# Regression coefficients (Ordinary Least Squares)\n",
    "regr = skl_lm.LinearRegression()\n",
    "\n",
    "X = scale(advertising.TV, with_mean=True, with_std=False).reshape(-1,1)\n",
    "# we need to reshape to correspond to y\n",
    "y = advertising.Sales\n",
    "\n",
    "regr.fit(X,y)\n",
    "print(regr.intercept_) #b0\n",
    "print(regr.coef_) #b1"
   ]
  },
  {
   "attachments": {},
   "cell_type": "markdown",
   "metadata": {},
   "source": [
    "Notice the use of `scale` from sk_learn\n",
    "\n",
    "        z = (x - u) / s\n",
    "\n",
    "        where u is the mean of the training samples or zero if with_mean=False, and s is the standard deviation of the training samples or one if with_std=False\n",
    "\n",
    "        https://scikit-learn.org/stable/modules/generated/sklearn.preprocessing.StandardScaler.html\n",
    "\n",
    "`scale` returns a simple array, which we need to \"shape\" for use with `y`\n",
    "\n",
    "Notice the use of `reshape` from numpy\n",
    "\n",
    "1. the first -1 is to flatten the data into a single array\n",
    "2. the next 1 is to verticalize into an array of arrays , this is to match the shape of `y`\n",
    "\n"
   ]
  },
  {
   "attachments": {},
   "cell_type": "markdown",
   "metadata": {},
   "source": []
  },
  {
   "attachments": {},
   "cell_type": "markdown",
   "metadata": {},
   "source": []
  }
 ],
 "metadata": {
  "kernelspec": {
   "display_name": "myenv",
   "language": "python",
   "name": "python3"
  },
  "language_info": {
   "codemirror_mode": {
    "name": "ipython",
    "version": 3
   },
   "file_extension": ".py",
   "mimetype": "text/x-python",
   "name": "python",
   "nbconvert_exporter": "python",
   "pygments_lexer": "ipython3",
   "version": "3.10.11"
  },
  "orig_nbformat": 4
 },
 "nbformat": 4,
 "nbformat_minor": 2
}
